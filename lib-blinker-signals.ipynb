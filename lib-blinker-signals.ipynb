{
 "cells": [
  {
   "cell_type": "markdown",
   "metadata": {},
   "source": [
    "# blinker"
   ]
  },
  {
   "cell_type": "markdown",
   "metadata": {},
   "source": [
    "blinker使用:\n",
    "    https://pythonhosted.org/blinker/"
   ]
  },
  {
   "cell_type": "markdown",
   "metadata": {},
   "source": [
    "有点类似c++设计模式里的`中介者模式`"
   ]
  },
  {
   "cell_type": "code",
   "execution_count": 178,
   "metadata": {},
   "outputs": [],
   "source": [
    "from blinker import *"
   ]
  },
  {
   "cell_type": "code",
   "execution_count": 179,
   "metadata": {},
   "outputs": [],
   "source": [
    "s = Signal('s')"
   ]
  },
  {
   "cell_type": "code",
   "execution_count": 180,
   "metadata": {},
   "outputs": [],
   "source": [
    "def callback(sender):\n",
    "    print('callback from %s' %sender)"
   ]
  },
  {
   "cell_type": "code",
   "execution_count": 181,
   "metadata": {},
   "outputs": [],
   "source": [
    "class A:\n",
    "    pass"
   ]
  },
  {
   "cell_type": "code",
   "execution_count": 182,
   "metadata": {},
   "outputs": [],
   "source": [
    "a = A()"
   ]
  },
  {
   "cell_type": "code",
   "execution_count": 183,
   "metadata": {},
   "outputs": [
    {
     "data": {
      "text/plain": [
       "<function __main__.callback(sender)>"
      ]
     },
     "execution_count": 183,
     "metadata": {},
     "output_type": "execute_result"
    }
   ],
   "source": [
    "s.connect(callback,sender=a)"
   ]
  },
  {
   "cell_type": "markdown",
   "metadata": {},
   "source": [
    "同1个callback分2次，绑定到2个sender上;"
   ]
  },
  {
   "cell_type": "code",
   "execution_count": 184,
   "metadata": {},
   "outputs": [
    {
     "data": {
      "text/plain": [
       "<function __main__.callback(sender)>"
      ]
     },
     "execution_count": 184,
     "metadata": {},
     "output_type": "execute_result"
    }
   ],
   "source": [
    "b=A(); s.connect(callback,sender=b)"
   ]
  },
  {
   "cell_type": "code",
   "execution_count": 185,
   "metadata": {},
   "outputs": [
    {
     "data": {
      "text/plain": [
       "[]"
      ]
     },
     "execution_count": 185,
     "metadata": {},
     "output_type": "execute_result"
    }
   ],
   "source": [
    "s.send()"
   ]
  },
  {
   "cell_type": "markdown",
   "metadata": {},
   "source": [
    "connect指定了sender 那么只有a发出的消息，才能被收到."
   ]
  },
  {
   "cell_type": "code",
   "execution_count": 186,
   "metadata": {},
   "outputs": [
    {
     "name": "stdout",
     "output_type": "stream",
     "text": [
      "callback from <__main__.A object at 0x7f372c3640f0>\n"
     ]
    },
    {
     "data": {
      "text/plain": [
       "[(<function __main__.callback(sender)>, None)]"
      ]
     },
     "execution_count": 186,
     "metadata": {},
     "output_type": "execute_result"
    }
   ],
   "source": [
    "s.send(a)"
   ]
  },
  {
   "cell_type": "code",
   "execution_count": 187,
   "metadata": {},
   "outputs": [
    {
     "name": "stdout",
     "output_type": "stream",
     "text": [
      "callback from <__main__.A object at 0x7f372c364278>\n"
     ]
    },
    {
     "data": {
      "text/plain": [
       "[(<function __main__.callback(sender)>, None)]"
      ]
     },
     "execution_count": 187,
     "metadata": {},
     "output_type": "execute_result"
    }
   ],
   "source": [
    "s.send(b)"
   ]
  },
  {
   "cell_type": "markdown",
   "metadata": {},
   "source": [
    "## 设计思路"
   ]
  },
  {
   "cell_type": "markdown",
   "metadata": {},
   "source": [
    "Signal()相当于中间层，connect订阅了指定sender or (ANY)，并指定callback"
   ]
  },
  {
   "cell_type": "markdown",
   "metadata": {},
   "source": [
    "```shm\n",
    "1. Signal connect里肯定要维护所有注册到该signal上的callback(receivers);\n",
    "2. Signal connect需要记录sender, 当send时，比对sender和send函数参数里指定的sender;\n",
    "```"
   ]
  },
  {
   "cell_type": "markdown",
   "metadata": {},
   "source": [
    "### 具体如何存储?"
   ]
  },
  {
   "cell_type": "markdown",
   "metadata": {},
   "source": [
    "1. dict存储id:callback"
   ]
  },
  {
   "cell_type": "code",
   "execution_count": 188,
   "metadata": {},
   "outputs": [
    {
     "data": {
      "text/plain": [
       "{139874941697016: <weakref at 0x7f372c444b88; to 'function' at 0x7f372c367bf8 (callback)>}"
      ]
     },
     "execution_count": 188,
     "metadata": {},
     "output_type": "execute_result"
    }
   ],
   "source": [
    "s.receivers"
   ]
  },
  {
   "cell_type": "markdown",
   "metadata": {},
   "source": [
    "另外用到了这种dict，相同的key,value将添加后list里？有点熟悉啊..leetcode实现过，叫hastdict."
   ]
  },
  {
   "cell_type": "code",
   "execution_count": 189,
   "metadata": {},
   "outputs": [],
   "source": [
    "from collections import defaultdict"
   ]
  },
  {
   "cell_type": "code",
   "execution_count": 190,
   "metadata": {},
   "outputs": [],
   "source": [
    "S = defaultdict(set)"
   ]
  },
  {
   "cell_type": "code",
   "execution_count": 191,
   "metadata": {},
   "outputs": [
    {
     "data": {
      "text/plain": [
       "defaultdict(set, {})"
      ]
     },
     "execution_count": 191,
     "metadata": {},
     "output_type": "execute_result"
    }
   ],
   "source": [
    "S"
   ]
  },
  {
   "cell_type": "code",
   "execution_count": 192,
   "metadata": {},
   "outputs": [
    {
     "data": {
      "text/plain": [
       "defaultdict(set, {'1': {1, 2}})"
      ]
     },
     "execution_count": 192,
     "metadata": {},
     "output_type": "execute_result"
    }
   ],
   "source": [
    "S[\"1\"].add(1);S[\"1\"].add(2);S"
   ]
  },
  {
   "cell_type": "markdown",
   "metadata": {},
   "source": [
    "`1个sender可能绑定多个callback,同样1个callback可以指定多个sender`,没有什么比这种结构更合适的了.\n"
   ]
  },
  {
   "cell_type": "markdown",
   "metadata": {},
   "source": [
    "2. sender dict: 以sender对象为key, 以绑定callback id为 value;"
   ]
  },
  {
   "cell_type": "code",
   "execution_count": 193,
   "metadata": {},
   "outputs": [
    {
     "data": {
      "text/plain": [
       "defaultdict(set,\n",
       "            {139874941681904: {139874941697016},\n",
       "             139874941682296: {139874941697016},\n",
       "             0: set()})"
      ]
     },
     "execution_count": 193,
     "metadata": {},
     "output_type": "execute_result"
    }
   ],
   "source": [
    "s._by_sender\n"
   ]
  },
  {
   "cell_type": "markdown",
   "metadata": {},
   "source": [
    "3. receiver dict: 以callback为key,以指定的的sender为value"
   ]
  },
  {
   "cell_type": "code",
   "execution_count": 194,
   "metadata": {},
   "outputs": [
    {
     "data": {
      "text/plain": [
       "defaultdict(set, {139874941697016: {139874941681904, 139874941682296}})"
      ]
     },
     "execution_count": 194,
     "metadata": {},
     "output_type": "execute_result"
    }
   ],
   "source": [
    "s._by_receiver"
   ]
  },
  {
   "cell_type": "markdown",
   "metadata": {},
   "source": [
    "### receiver_connected"
   ]
  },
  {
   "cell_type": "markdown",
   "metadata": {},
   "source": [
    "是1个lazyproperty方式增加的属性，也是1个signal. connect调用后，将触发注册在该signal上的callback，比如下面的connected;"
   ]
  },
  {
   "cell_type": "code",
   "execution_count": 195,
   "metadata": {},
   "outputs": [],
   "source": [
    "@s.receiver_connected.connect\n",
    "def connected(*args, **kwargs):\n",
    "    print('connected')"
   ]
  },
  {
   "cell_type": "code",
   "execution_count": 196,
   "metadata": {},
   "outputs": [
    {
     "data": {
      "text/plain": [
       "{139874941697424: <weakref at 0x7f372c444768; to 'function' at 0x7f372c367d90 (connected)>}"
      ]
     },
     "execution_count": 196,
     "metadata": {},
     "output_type": "execute_result"
    }
   ],
   "source": [
    "s.receiver_connected.receivers"
   ]
  },
  {
   "cell_type": "markdown",
   "metadata": {},
   "source": [
    "connect后，触发receiver_connected的callback:"
   ]
  },
  {
   "cell_type": "code",
   "execution_count": 197,
   "metadata": {},
   "outputs": [
    {
     "name": "stdout",
     "output_type": "stream",
     "text": [
      "connected\n"
     ]
    },
    {
     "data": {
      "text/plain": [
       "<function __main__.callback(sender)>"
      ]
     },
     "execution_count": 197,
     "metadata": {},
     "output_type": "execute_result"
    }
   ],
   "source": [
    "s.connect(callback,a)"
   ]
  },
  {
   "cell_type": "markdown",
   "metadata": {},
   "source": [
    "### reference"
   ]
  },
  {
   "cell_type": "markdown",
   "metadata": {},
   "source": [
    "应该是blinker的复杂部分了。之前应该要了解`weakref`"
   ]
  },
  {
   "cell_type": "markdown",
   "metadata": {},
   "source": [
    "比如在connect里:\n",
    "```py\n",
    "receiver_id = hashable_identity(receiver)\n",
    "if weak:\n",
    "    receiver_ref = reference(receiver, self._cleanup_receiver)\n",
    "    receiver_ref.receiver_id = receiver_id\n",
    "else:\n",
    "    receiver_ref = receiver\n",
    "```"
   ]
  },
  {
   "cell_type": "markdown",
   "metadata": {},
   "source": [
    "reference： 要求object .即callback要有im_self, or__self__的属性.\n",
    "\n",
    "annotation_xx理解为空，未实现;"
   ]
  },
  {
   "cell_type": "markdown",
   "metadata": {},
   "source": [
    "```py\n",
    "\n",
    "def reference(object, callback=None, **annotations):\n",
    "    \"\"\"Return an annotated weak ref.\"\"\"\n",
    "    if callable(object):\n",
    "        weak = callable_reference(object, callback)\n",
    "    else:\n",
    "        weak = annotatable_weakref(object, callback)\n",
    "    for key, value in annotations.items():\n",
    "        setattr(weak, key, value)\n",
    "    return weak\n",
    "\n",
    "\n",
    "def callable_reference(object, callback=None):\n",
    "    \"\"\"Return an annotated weak ref, supporting bound instance methods.\"\"\"\n",
    "    if hasattr(object, 'im_self') and object.im_self is not None:\n",
    "        return BoundMethodWeakref(target=object, on_delete=callback)\n",
    "    elif hasattr(object, '__self__') and object.__self__ is not None:\n",
    "        return BoundMethodWeakref(target=object, on_delete=callback)\n",
    "    return annotatable_weakref(object, callback)\n",
    "```"
   ]
  },
  {
   "cell_type": "markdown",
   "metadata": {},
   "source": [
    "再看BoundMethodWeakref:"
   ]
  },
  {
   "cell_type": "markdown",
   "metadata": {},
   "source": [
    "给BoundeMethod来做1个weakref,\n",
    "什么是bound method?"
   ]
  },
  {
   "cell_type": "code",
   "execution_count": 207,
   "metadata": {},
   "outputs": [
    {
     "data": {
      "text/plain": [
       "<function __main__.A.f(self)>"
      ]
     },
     "execution_count": 207,
     "metadata": {},
     "output_type": "execute_result"
    }
   ],
   "source": [
    "class A:\n",
    "    def f(self):\n",
    "        pass "
   ]
  },
  {
   "cell_type": "markdown",
   "metadata": {},
   "source": [
    "unbound method"
   ]
  },
  {
   "cell_type": "code",
   "execution_count": 210,
   "metadata": {},
   "outputs": [
    {
     "data": {
      "text/plain": [
       "<function __main__.A.f(self)>"
      ]
     },
     "execution_count": 210,
     "metadata": {},
     "output_type": "execute_result"
    }
   ],
   "source": [
    "A.f "
   ]
  },
  {
   "cell_type": "markdown",
   "metadata": {},
   "source": [
    "bound method"
   ]
  },
  {
   "cell_type": "code",
   "execution_count": 211,
   "metadata": {},
   "outputs": [
    {
     "data": {
      "text/plain": [
       "<bound method A.f of <__main__.A object at 0x7f372c373470>>"
      ]
     },
     "execution_count": 211,
     "metadata": {},
     "output_type": "execute_result"
    }
   ],
   "source": [
    "a = A();a.f"
   ]
  },
  {
   "cell_type": "markdown",
   "metadata": {},
   "source": [
    "1个method 可以bound到很多instance上."
   ]
  },
  {
   "cell_type": "code",
   "execution_count": 212,
   "metadata": {},
   "outputs": [
    {
     "data": {
      "text/plain": [
       "<bound method A.f of <__main__.A object at 0x7f372c373eb8>>"
      ]
     },
     "execution_count": 212,
     "metadata": {},
     "output_type": "execute_result"
    }
   ],
   "source": [
    "b = A();\n",
    "b.f"
   ]
  },
  {
   "cell_type": "markdown",
   "metadata": {},
   "source": [
    "所以bound method是生命周期，可能和多个instance有关的,这就是下面`_all_instances`的意义"
   ]
  },
  {
   "cell_type": "markdown",
   "metadata": {},
   "source": [
    "```py\n",
    "class BoundMethodWeakref(object):\n",
    "    \"\"\"'Safe' and reusable weak references to instance methods.\n",
    "\n",
    "    BoundMethodWeakref objects provide a mechanism for referencing a\n",
    "    bound method without requiring that the method object itself\n",
    "    (which is normally a transient object) is kept alive.  Instead,\n",
    "    the BoundMethodWeakref object keeps weak references to both the\n",
    "    object and the function which together define the instance method.\n",
    "\n",
    "    Attributes:\n",
    "\n",
    "    - ``key``: The identity key for the reference, calculated by the\n",
    "      class's calculate_key method applied to the target instance method.\n",
    "\n",
    "    - ``deletion_methods``: Sequence of callable objects taking single\n",
    "      argument, a reference to this object which will be called when\n",
    "      *either* the target object or target function is garbage\n",
    "      collected (i.e. when this object becomes invalid).  These are\n",
    "      specified as the on_delete parameters of safe_ref calls.\n",
    "\n",
    "    - ``weak_self``: Weak reference to the target object.\n",
    "\n",
    "    - ``weak_func``: Weak reference to the target function.\n",
    "\n",
    "    Class Attributes:\n",
    "\n",
    "    - ``_all_instances``: Class attribute pointing to all live\n",
    "      BoundMethodWeakref objects indexed by the class's\n",
    "      calculate_key(target) method applied to the target objects.\n",
    "      This weak value dictionary is used to short-circuit creation so\n",
    "      that multiple references to the same (object, function) pair\n",
    "      produce the same BoundMethodWeakref instance.\n",
    "    \"\"\"\n",
    "\n",
    "    _all_instances = weakref.WeakValueDictionary()\n",
    "\n",
    "    def __new__(cls, target, on_delete=None, *arguments, **named):\n",
    "        \"\"\"Create new instance or return current instance.\n",
    "\n",
    "        Basically this method of construction allows us to\n",
    "        short-circuit creation of references to already- referenced\n",
    "        instance methods.  The key corresponding to the target is\n",
    "        calculated, and if there is already an existing reference,\n",
    "        that is returned, with its deletion_methods attribute updated.\n",
    "        Otherwise the new instance is created and registered in the\n",
    "        table of already-referenced methods.\n",
    "        \"\"\"\n",
    "        key = cls.calculate_key(target)\n",
    "        current = cls._all_instances.get(key)\n",
    "        if current is not None:\n",
    "            current.deletion_methods.append(on_delete)\n",
    "            return current\n",
    "        else:\n",
    "            base = super(BoundMethodWeakref, cls).__new__(cls)\n",
    "            cls._all_instances[key] = base\n",
    "            base.__init__(target, on_delete, *arguments, **named)\n",
    "            return base\n",
    "\n",
    "    def __init__(self, target, on_delete=None):\n",
    "        \"\"\"Return a weak-reference-like instance for a bound method.\n",
    "\n",
    "        - ``target``: The instance-method target for the weak reference,\n",
    "          must have im_self and im_func attributes and be\n",
    "          reconstructable via the following, which is true of built-in\n",
    "          instance methods::\n",
    "\n",
    "            target.im_func.__get__( target.im_self )\n",
    "\n",
    "        - ``on_delete``: Optional callback which will be called when\n",
    "          this weak reference ceases to be valid (i.e. either the\n",
    "          object or the function is garbage collected).  Should take a\n",
    "          single argument, which will be passed a pointer to this\n",
    "          object.\n",
    "        \"\"\"\n",
    "        def remove(weak, self=self):\n",
    "            \"\"\"Set self.isDead to True when method or instance is destroyed.\"\"\"\n",
    "            methods = self.deletion_methods[:]\n",
    "            del self.deletion_methods[:]\n",
    "            try:\n",
    "                del self.__class__._all_instances[self.key]\n",
    "            except KeyError:\n",
    "                pass\n",
    "            for function in methods:\n",
    "                try:\n",
    "                    if callable(function):\n",
    "                        function(self)\n",
    "                except Exception:\n",
    "                    try:\n",
    "                        traceback.print_exc()\n",
    "                    except AttributeError:\n",
    "                        e = sys.exc_info()[1]\n",
    "                        print ('Exception during saferef %s '\n",
    "                               'cleanup function %s: %s' % (self, function, e))\n",
    "        self.deletion_methods = [on_delete]\n",
    "        self.key = self.calculate_key(target)\n",
    "        im_self = get_self(target)\n",
    "        im_func = get_func(target)\n",
    "        self.weak_self = weakref.ref(im_self, remove)\n",
    "        self.weak_func = weakref.ref(im_func, remove)\n",
    "        self.self_name = str(im_self)\n",
    "        self.func_name = str(im_func.__name__)\n",
    "\n",
    "    def calculate_key(cls, target):\n",
    "        \"\"\"Calculate the reference key for this reference.\n",
    "\n",
    "        Currently this is a two-tuple of the id()'s of the target\n",
    "        object and the target function respectively.\n",
    "        \"\"\"\n",
    "        return (id(get_self(target)), id(get_func(target)))\n",
    "    calculate_key = classmethod(calculate_key)\n",
    "\n",
    "    def __str__(self):\n",
    "        \"\"\"Give a friendly representation of the object.\"\"\"\n",
    "        return \"%s(%s.%s)\" % (\n",
    "            self.__class__.__name__,\n",
    "            self.self_name,\n",
    "            self.func_name,\n",
    "            )\n",
    "\n",
    "    __repr__ = __str__\n",
    "\n",
    "    def __nonzero__(self):\n",
    "        \"\"\"Whether we are still a valid reference.\"\"\"\n",
    "        return self() is not None\n",
    "\n",
    "    def __cmp__(self, other):\n",
    "        \"\"\"Compare with another reference.\"\"\"\n",
    "        if not isinstance(other, self.__class__):\n",
    "            return cmp(self.__class__, type(other))\n",
    "        return cmp(self.key, other.key)\n",
    "\n",
    "    def __call__(self):\n",
    "        \"\"\"Return a strong reference to the bound method.\n",
    "\n",
    "        If the target cannot be retrieved, then will return None,\n",
    "        otherwise returns a bound instance method for our object and\n",
    "        function.\n",
    "\n",
    "        Note: You may call this method any number of times, as it does\n",
    "        not invalidate the reference.\n",
    "        \"\"\"\n",
    "        target = self.weak_self()\n",
    "        if target is not None:\n",
    "            function = self.weak_func()\n",
    "            if function is not None:\n",
    "                return function.__get__(target)\n",
    "        return Nonem\n",
    "```"
   ]
  },
  {
   "cell_type": "code",
   "execution_count": null,
   "metadata": {},
   "outputs": [],
   "source": []
  }
 ],
 "metadata": {
  "kernelspec": {
   "display_name": "Python 3",
   "language": "python",
   "name": "python3"
  },
  "language_info": {
   "codemirror_mode": {
    "name": "ipython",
    "version": 3
   },
   "file_extension": ".py",
   "mimetype": "text/x-python",
   "name": "python",
   "nbconvert_exporter": "python",
   "pygments_lexer": "ipython3",
   "version": "3.6.5"
  },
  "toc": {
   "base_numbering": 1,
   "nav_menu": {},
   "number_sections": true,
   "sideBar": true,
   "skip_h1_title": false,
   "title_cell": "Table of Contents",
   "title_sidebar": "Contents",
   "toc_cell": false,
   "toc_position": {},
   "toc_section_display": true,
   "toc_window_display": false
  }
 },
 "nbformat": 4,
 "nbformat_minor": 2
}
