{
 "cells": [
  {
   "cell_type": "markdown",
   "metadata": {},
   "source": [
    "# blinker"
   ]
  },
  {
   "cell_type": "markdown",
   "metadata": {},
   "source": [
    "blinker使用:\n",
    "    https://pythonhosted.org/blinker/"
   ]
  },
  {
   "cell_type": "markdown",
   "metadata": {},
   "source": [
    "至少要知道[weakref](https://github.com/anribras/pythonNotes/blob/master/weakref.ipynb)"
   ]
  },
  {
   "cell_type": "markdown",
   "metadata": {},
   "source": [
    "有点类似设计模式里的`中介者模式`"
   ]
  },
  {
   "cell_type": "code",
   "execution_count": 242,
   "metadata": {},
   "outputs": [],
   "source": [
    "from blinker import *"
   ]
  },
  {
   "cell_type": "code",
   "execution_count": 243,
   "metadata": {},
   "outputs": [],
   "source": [
    "s = Signal('s')"
   ]
  },
  {
   "cell_type": "code",
   "execution_count": 244,
   "metadata": {},
   "outputs": [],
   "source": [
    "def callback(sender):\n",
    "    print('callback from %s' %sender)"
   ]
  },
  {
   "cell_type": "code",
   "execution_count": 245,
   "metadata": {},
   "outputs": [],
   "source": [
    "class A:\n",
    "    pass"
   ]
  },
  {
   "cell_type": "code",
   "execution_count": 246,
   "metadata": {},
   "outputs": [],
   "source": [
    "a = A()"
   ]
  },
  {
   "cell_type": "code",
   "execution_count": 247,
   "metadata": {},
   "outputs": [
    {
     "data": {
      "text/plain": [
       "<function __main__.callback(sender)>"
      ]
     },
     "execution_count": 247,
     "metadata": {},
     "output_type": "execute_result"
    }
   ],
   "source": [
    "s.connect(callback,sender=a)"
   ]
  },
  {
   "cell_type": "markdown",
   "metadata": {},
   "source": [
    "同1个callback分2次，绑定到2个sender上;"
   ]
  },
  {
   "cell_type": "code",
   "execution_count": 248,
   "metadata": {},
   "outputs": [
    {
     "data": {
      "text/plain": [
       "<function __main__.callback(sender)>"
      ]
     },
     "execution_count": 248,
     "metadata": {},
     "output_type": "execute_result"
    }
   ],
   "source": [
    "b=A(); s.connect(callback,sender=b)"
   ]
  },
  {
   "cell_type": "code",
   "execution_count": 249,
   "metadata": {},
   "outputs": [
    {
     "data": {
      "text/plain": [
       "[]"
      ]
     },
     "execution_count": 249,
     "metadata": {},
     "output_type": "execute_result"
    }
   ],
   "source": [
    "s.send()"
   ]
  },
  {
   "cell_type": "markdown",
   "metadata": {},
   "source": [
    "connect指定了sender 那么只有a发出的消息，才能被收到."
   ]
  },
  {
   "cell_type": "code",
   "execution_count": 250,
   "metadata": {},
   "outputs": [
    {
     "name": "stdout",
     "output_type": "stream",
     "text": [
      "callback from <__main__.A object at 0x7f372c37a5f8>\n"
     ]
    },
    {
     "data": {
      "text/plain": [
       "[(<function __main__.callback(sender)>, None)]"
      ]
     },
     "execution_count": 250,
     "metadata": {},
     "output_type": "execute_result"
    }
   ],
   "source": [
    "s.send(a)"
   ]
  },
  {
   "cell_type": "code",
   "execution_count": 251,
   "metadata": {},
   "outputs": [
    {
     "name": "stdout",
     "output_type": "stream",
     "text": [
      "callback from <__main__.A object at 0x7f372c37a7b8>\n"
     ]
    },
    {
     "data": {
      "text/plain": [
       "[(<function __main__.callback(sender)>, None)]"
      ]
     },
     "execution_count": 251,
     "metadata": {},
     "output_type": "execute_result"
    }
   ],
   "source": [
    "s.send(b)"
   ]
  },
  {
   "cell_type": "markdown",
   "metadata": {},
   "source": [
    "Signal()相当于中间层，connect订阅了指定sender or (ANY)，并指定callback"
   ]
  },
  {
   "cell_type": "markdown",
   "metadata": {},
   "source": [
    "```shm\n",
    "1. Signal connect里肯定要维护所有注册到该signal上的callback(receivers);\n",
    "2. Signal connect需要记录sender, 当send时，比对sender和send函数参数里指定的sender;\n",
    "```"
   ]
  },
  {
   "cell_type": "markdown",
   "metadata": {},
   "source": [
    "## 如何存储?"
   ]
  },
  {
   "cell_type": "markdown",
   "metadata": {},
   "source": [
    "1. dict存储id:callback"
   ]
  },
  {
   "cell_type": "code",
   "execution_count": 252,
   "metadata": {},
   "outputs": [
    {
     "data": {
      "text/plain": [
       "{139874942346784: <weakref at 0x7f372c444648; to 'function' at 0x7f372c406620 (callback)>}"
      ]
     },
     "execution_count": 252,
     "metadata": {},
     "output_type": "execute_result"
    }
   ],
   "source": [
    "s.receivers"
   ]
  },
  {
   "cell_type": "markdown",
   "metadata": {},
   "source": [
    "另外用到了这种dict，相同的key,value将添加后list里？有点熟悉啊..leetcode实现过，叫hastdict."
   ]
  },
  {
   "cell_type": "code",
   "execution_count": 253,
   "metadata": {},
   "outputs": [],
   "source": [
    "from collections import defaultdict"
   ]
  },
  {
   "cell_type": "code",
   "execution_count": 254,
   "metadata": {},
   "outputs": [],
   "source": [
    "S = defaultdict(set)"
   ]
  },
  {
   "cell_type": "code",
   "execution_count": 255,
   "metadata": {},
   "outputs": [
    {
     "data": {
      "text/plain": [
       "defaultdict(set, {})"
      ]
     },
     "execution_count": 255,
     "metadata": {},
     "output_type": "execute_result"
    }
   ],
   "source": [
    "S"
   ]
  },
  {
   "cell_type": "code",
   "execution_count": 256,
   "metadata": {},
   "outputs": [
    {
     "data": {
      "text/plain": [
       "defaultdict(set, {'1': {1, 2}})"
      ]
     },
     "execution_count": 256,
     "metadata": {},
     "output_type": "execute_result"
    }
   ],
   "source": [
    "S[\"1\"].add(1);S[\"1\"].add(2);S"
   ]
  },
  {
   "cell_type": "markdown",
   "metadata": {},
   "source": [
    "`1个sender可能绑定多个callback,同样1个callback可以指定多个sender`,没有什么比这种结构更合适的了.\n"
   ]
  },
  {
   "cell_type": "markdown",
   "metadata": {},
   "source": [
    "2. sender dict: 以sender对象为key, 以绑定callback id为 value;"
   ]
  },
  {
   "cell_type": "code",
   "execution_count": 257,
   "metadata": {},
   "outputs": [
    {
     "data": {
      "text/plain": [
       "defaultdict(set,\n",
       "            {139874941773304: {139874942346784},\n",
       "             139874941773752: {139874942346784},\n",
       "             0: set()})"
      ]
     },
     "execution_count": 257,
     "metadata": {},
     "output_type": "execute_result"
    }
   ],
   "source": [
    "s._by_sender\n"
   ]
  },
  {
   "cell_type": "markdown",
   "metadata": {},
   "source": [
    "3. receiver dict: 以callback为key,以指定的的sender为value"
   ]
  },
  {
   "cell_type": "code",
   "execution_count": 258,
   "metadata": {},
   "outputs": [
    {
     "data": {
      "text/plain": [
       "defaultdict(set, {139874942346784: {139874941773304, 139874941773752}})"
      ]
     },
     "execution_count": 258,
     "metadata": {},
     "output_type": "execute_result"
    }
   ],
   "source": [
    "s._by_receiver"
   ]
  },
  {
   "cell_type": "markdown",
   "metadata": {},
   "source": [
    "## receiver_connected in Signal"
   ]
  },
  {
   "cell_type": "markdown",
   "metadata": {},
   "source": [
    "是1种用[lazyproperty](https://github.com/anribras/pythonNotes/blob/master/lazy_property.ipynb)方式增加的属性，也是1个signal. connect调用后，将触发注册在该signal上的callback，比如下面的connected;"
   ]
  },
  {
   "cell_type": "code",
   "execution_count": 259,
   "metadata": {},
   "outputs": [],
   "source": [
    "@s.receiver_connected.connect\n",
    "def connected(*args, **kwargs):\n",
    "    print('connected')"
   ]
  },
  {
   "cell_type": "code",
   "execution_count": 260,
   "metadata": {},
   "outputs": [
    {
     "data": {
      "text/plain": [
       "{139874942347192: <weakref at 0x7f372c444d08; to 'function' at 0x7f372c4067b8 (connected)>}"
      ]
     },
     "execution_count": 260,
     "metadata": {},
     "output_type": "execute_result"
    }
   ],
   "source": [
    "s.receiver_connected.receivers"
   ]
  },
  {
   "cell_type": "markdown",
   "metadata": {},
   "source": [
    "connect后，触发receiver_connected的callback:"
   ]
  },
  {
   "cell_type": "code",
   "execution_count": 261,
   "metadata": {},
   "outputs": [
    {
     "name": "stdout",
     "output_type": "stream",
     "text": [
      "connected\n"
     ]
    },
    {
     "data": {
      "text/plain": [
       "<function __main__.callback(sender)>"
      ]
     },
     "execution_count": 261,
     "metadata": {},
     "output_type": "execute_result"
    }
   ],
   "source": [
    "s.connect(callback,a)"
   ]
  },
  {
   "cell_type": "markdown",
   "metadata": {},
   "source": [
    "## reference"
   ]
  },
  {
   "cell_type": "markdown",
   "metadata": {},
   "source": [
    "在connect实现里:\n",
    "```py\n",
    "receiver_id = hashable_identity(receiver)\n",
    "if weak:\n",
    "    receiver_ref = reference(receiver, self._cleanup_receiver)\n",
    "    receiver_ref.receiver_id = receiver_id\n",
    "else:\n",
    "    receiver_ref = receiver\n",
    "if sender is ANY:\n",
    "    sender_id = ANY_ID\n",
    "else:\n",
    "    sender_id = hashable_identity(sender)\n",
    "\n",
    "self.receivers.setdefault(receiver_id, receiver_ref)\n",
    "self._by_sender[sender_id].add(receiver_id)\n",
    "self._by_receiver[receiver_id].add(sender_id)\n",
    "del receiver_ref\n",
    "```"
   ]
  },
  {
   "cell_type": "markdown",
   "metadata": {},
   "source": [
    "receiver_ref就是receiver的weakref.作用也只是用来计算id，然后delete."
   ]
  },
  {
   "cell_type": "markdown",
   "metadata": {},
   "source": [
    "reference： 要求object为callable 并且要有 要有im_self, or__self__的属性,确认其bounded\n",
    "\n",
    "annotation_xx理解为空，未实现;"
   ]
  },
  {
   "cell_type": "markdown",
   "metadata": {},
   "source": [
    "```py\n",
    "\n",
    "def reference(object, callback=None, **annotations):\n",
    "    \"\"\"Return an annotated weak ref.\"\"\"\n",
    "    if callable(object):\n",
    "        weak = callable_reference(object, callback)\n",
    "    else:\n",
    "        weak = annotatable_weakref(object, callback)\n",
    "    for key, value in annotations.items():\n",
    "        setattr(weak, key, value)\n",
    "    return weak\n",
    "\n",
    "\n",
    "def callable_reference(object, callback=None):\n",
    "    \"\"\"Return an annotated weak ref, supporting bound instance methods.\"\"\"\n",
    "    if hasattr(object, 'im_self') and object.im_self is not None:\n",
    "        return BoundMethodWeakref(target=object, on_delete=callback)\n",
    "    elif hasattr(object, '__self__') and object.__self__ is not None:\n",
    "        return BoundMethodWeakref(target=object, on_delete=callback)\n",
    "    return annotatable_weakref(object, callback)\n",
    "```"
   ]
  },
  {
   "cell_type": "markdown",
   "metadata": {},
   "source": [
    "### BoundMethodWeakref"
   ]
  },
  {
   "cell_type": "markdown",
   "metadata": {},
   "source": [
    "再看BoundMethodWeakref:即给BoundeMethod来做1个weakref,\n",
    "什么是bound method?"
   ]
  },
  {
   "cell_type": "code",
   "execution_count": 262,
   "metadata": {},
   "outputs": [],
   "source": [
    "class A:\n",
    "    def f(self):\n",
    "        pass "
   ]
  },
  {
   "cell_type": "markdown",
   "metadata": {},
   "source": [
    "unbound method"
   ]
  },
  {
   "cell_type": "code",
   "execution_count": 263,
   "metadata": {},
   "outputs": [
    {
     "data": {
      "text/plain": [
       "<function __main__.A.f(self)>"
      ]
     },
     "execution_count": 263,
     "metadata": {},
     "output_type": "execute_result"
    }
   ],
   "source": [
    "A.f "
   ]
  },
  {
   "cell_type": "markdown",
   "metadata": {},
   "source": [
    "bound method"
   ]
  },
  {
   "cell_type": "code",
   "execution_count": 264,
   "metadata": {},
   "outputs": [
    {
     "data": {
      "text/plain": [
       "<bound method A.f of <__main__.A object at 0x7f372c38b0f0>>"
      ]
     },
     "execution_count": 264,
     "metadata": {},
     "output_type": "execute_result"
    }
   ],
   "source": [
    "a = A();a.f"
   ]
  },
  {
   "cell_type": "markdown",
   "metadata": {},
   "source": [
    "1个method 可以bound到很多instance上."
   ]
  },
  {
   "cell_type": "code",
   "execution_count": 265,
   "metadata": {},
   "outputs": [
    {
     "data": {
      "text/plain": [
       "<bound method A.f of <__main__.A object at 0x7f372c38b128>>"
      ]
     },
     "execution_count": 265,
     "metadata": {},
     "output_type": "execute_result"
    }
   ],
   "source": [
    "b = A();\n",
    "b.f"
   ]
  },
  {
   "cell_type": "markdown",
   "metadata": {},
   "source": [
    "1. 所以bound method的生命周期可能和多个instance有关的,这就是下面`_all_instances`的意义\n",
    "2. bounded method是具有`__self__`属性的，即自己绑定到了哪个method上."
   ]
  },
  {
   "cell_type": "code",
   "execution_count": 266,
   "metadata": {},
   "outputs": [
    {
     "data": {
      "text/plain": [
       "<__main__.A at 0x7f372c38b128>"
      ]
     },
     "execution_count": 266,
     "metadata": {},
     "output_type": "execute_result"
    }
   ],
   "source": [
    "b.f.__self__"
   ]
  },
  {
   "cell_type": "code",
   "execution_count": 267,
   "metadata": {},
   "outputs": [
    {
     "data": {
      "text/plain": [
       "<function __main__.A.f(self)>"
      ]
     },
     "execution_count": 267,
     "metadata": {},
     "output_type": "execute_result"
    }
   ],
   "source": [
    "b.f.__func__"
   ]
  },
  {
   "cell_type": "markdown",
   "metadata": {},
   "source": [
    "`_all_instances`是WeakValueDictionary."
   ]
  },
  {
   "cell_type": "markdown",
   "metadata": {},
   "source": [
    "WeakValueDictionary:如果Value是要销毁的，那么不会保存在dict里"
   ]
  },
  {
   "cell_type": "code",
   "execution_count": 299,
   "metadata": {},
   "outputs": [],
   "source": [
    "__all__instance = weakref.WeakValueDictionary()"
   ]
  },
  {
   "cell_type": "code",
   "execution_count": 300,
   "metadata": {},
   "outputs": [
    {
     "data": {
      "text/plain": [
       "<WeakValueDictionary at 0x7f372c3f7908>"
      ]
     },
     "execution_count": 300,
     "metadata": {},
     "output_type": "execute_result"
    }
   ],
   "source": [
    "__all__instance"
   ]
  },
  {
   "cell_type": "code",
   "execution_count": 301,
   "metadata": {},
   "outputs": [],
   "source": [
    "__all__instance[\"tmp0\"] = A();\n",
    "tmp = A()\n",
    "__all__instance[\"tmp1\"] = tmp;"
   ]
  },
  {
   "cell_type": "code",
   "execution_count": 302,
   "metadata": {},
   "outputs": [
    {
     "name": "stdout",
     "output_type": "stream",
     "text": [
      "tmp1:<__main__.A object at 0x7f372c3fa898>\n"
     ]
    },
    {
     "data": {
      "text/plain": [
       "[None]"
      ]
     },
     "execution_count": 302,
     "metadata": {},
     "output_type": "execute_result"
    }
   ],
   "source": [
    "[print(\"%s:%s\" % (k,v)) for k,v in __all__instance.items()]"
   ]
  },
  {
   "cell_type": "markdown",
   "metadata": {},
   "source": [
    "del tmp后，dict里也不见了"
   ]
  },
  {
   "cell_type": "code",
   "execution_count": 303,
   "metadata": {},
   "outputs": [
    {
     "data": {
      "text/plain": [
       "[]"
      ]
     },
     "execution_count": 303,
     "metadata": {},
     "output_type": "execute_result"
    }
   ],
   "source": [
    "del tmp;\n",
    "[print(\"%s:%s\" % (k,v)) for k,v in __all__instance.items()]"
   ]
  },
  {
   "cell_type": "code",
   "execution_count": 268,
   "metadata": {},
   "outputs": [],
   "source": [
    "import weakref\n",
    "import operator\n",
    "import tracebacka\n",
    "import sys\n",
    "\n",
    "get_self = operator.attrgetter('__self__')\n",
    "get_func = operator.attrgetter('__func__')\n",
    "class BoundMethodWeakref(object):\n",
    "    \"\"\"'Safe' and reusable weak references to instance methods.\n",
    "\n",
    "    BoundMethodWeakref objects provide a mechanism for referencing a\n",
    "    bound method without requiring that the method object itself\n",
    "    (which is normally a transient object) is kept alive.  Instead,\n",
    "    the BoundMethodWeakref object keeps weak references to both the\n",
    "    object and the function which together define the instance method.\n",
    "\n",
    "    Attributes:\n",
    "\n",
    "    - ``key``: The identity key for the reference, calculated by the\n",
    "      class's calculate_key method applied to the target instance method.\n",
    "\n",
    "    - ``deletion_methods``: Sequence of callable objects taking single\n",
    "      argument, a reference to this object which will be called when\n",
    "      *either* the target object or target function is garbage\n",
    "      collected (i.e. when this object becomes invalid).  These are\n",
    "      specified as the on_delete parameters of safe_ref calls.\n",
    "\n",
    "    - ``weak_self``: Weak reference to the target object.\n",
    "\n",
    "    - ``weak_func``: Weak reference to the target function.\n",
    "\n",
    "    Class Attributes:\n",
    "\n",
    "    - ``_all_instances``: Class attribute pointing to all live\n",
    "      BoundMethodWeakref objects indexed by the class's\n",
    "      calculate_key(target) method applied to the target objects.\n",
    "      This weak value dictionary is used to short-circuit creation so\n",
    "      that multiple references to the same (object, function) pair\n",
    "      produce the same BoundMethodWeakref instance.\n",
    "    \"\"\"\n",
    "\n",
    "    _all_instances = weakref.WeakValueDictionary()\n",
    "\n",
    "    def __new__(cls, target, on_delete=None, *arguments, **named):\n",
    "        \"\"\"Create new instance or return current instance.\n",
    "\n",
    "        Basically this method of construction allows us to\n",
    "        short-circuit creation of references to already- referenced\n",
    "        instance methods.  The key corresponding to the target is\n",
    "        calculated, and if there is already an existing reference,\n",
    "        that is returned, with its deletion_methods attribute updated.\n",
    "        Otherwise the new instance is created and registered in the\n",
    "        table of already-referenced methods.\n",
    "        \"\"\"\n",
    "        # key用的1个set: (id(a),id(b))\n",
    "        key = cls.calculate_key(target)\n",
    "        current = cls._all_instances.get(key)\n",
    "        \n",
    "        # a.f  已经有reference在Weakdict里, key存在且没变化, 直接return;\n",
    "        if current is not None:\n",
    "            current.deletion_methods.append(on_delete)\n",
    "            return current\n",
    "        else:\n",
    "            base = super(BoundMethodWeakref, cls).__new__(cls)\n",
    "            cls._all_instances[key] = base\n",
    "            base.__init__(target, on_delete, *arguments, **named)\n",
    "            return base\n",
    "\n",
    "    def __init__(self, target, on_delete=None):\n",
    "        \"\"\"Return a weak-reference-like instance for a bound method.\n",
    "\n",
    "        - ``target``: The instance-method target for the weak reference,\n",
    "          must have im_self and im_func attributes and be\n",
    "          reconstructable via the following, which is true of built-in\n",
    "          instance methods::\n",
    "\n",
    "            target.im_func.__get__( target.im_self )\n",
    "\n",
    "        - ``on_delete``: Optional callback which will be called when\n",
    "          this weak reference ceases to be valid (i.e. either the\n",
    "          object or the function is garbage collected).  Should take a\n",
    "          single argument, which will be passed a pointer to this\n",
    "          object.\n",
    "        \"\"\"\n",
    "        \n",
    "        def remove(weak, self=self):\n",
    "            \"\"\"Set self.isDead to True when method or instance is destroyed.\"\"\"\n",
    "            methods = self.deletion_methods[:]\n",
    "            del self.deletion_methods[:]\n",
    "            try:\n",
    "                del self.__class__._all_instances[self.key]\n",
    "            except KeyError:\n",
    "                pass\n",
    "            #执行所有注册这个ref上的on_delete callback.\n",
    "            for function in methods:\n",
    "                try:\n",
    "                    if callable(function):\n",
    "                        function(self)\n",
    "                except Exception:\n",
    "                    try:\n",
    "                        traceback.print_exc()\n",
    "                    except AttributeError:\n",
    "                        e = sys.exc_info()[1]\n",
    "                        print ('Exception during saferef %s '\n",
    "                               'cleanup function %s: %s' % (self, function, e))\n",
    "        self.deletion_methods = [on_delete]\n",
    "        self.key = self.calculate_key(target)\n",
    "        im_self = get_self(target)\n",
    "        im_func = get_func(target)\n",
    "        # 核心在这，保存了__func__和__self的weakref，再注册remove.\n",
    "        self.weak_self = weakref.ref(im_self, remove)\n",
    "        self.weak_func = weakref.ref(im_func, remove)\n",
    "        self.self_name = str(im_self)\n",
    "        self.func_name = str(im_func.__name__)\n",
    "\n",
    "    def calculate_key(cls, target):\n",
    "        \"\"\"Calculate the reference key for this reference.\n",
    "\n",
    "        Currently this is a two-tuple of the id()'s of the target\n",
    "        object and the target function respectively.\n",
    "        \"\"\"\n",
    "        return (id(get_self(target)), id(get_func(target)))\n",
    "    calculate_key = classmethod(calculate_key)\n",
    "\n",
    "    def __str__(self):\n",
    "        \"\"\"Give a friendly representation of the object.\"\"\"\n",
    "        return \"%s(%s.%s)\" % (\n",
    "            self.__class__.__name__,\n",
    "            self.self_name,\n",
    "            self.func_name,\n",
    "            )\n",
    "\n",
    "    __repr__ = __str__\n",
    "\n",
    "    def __nonzero__(self):\n",
    "        \"\"\"Whether we are still a valid reference.\"\"\"\n",
    "        return self() is not None\n",
    "\n",
    "    def __cmp__(self, other):\n",
    "        \"\"\"Compare with another reference.\"\"\"\n",
    "        if not isinstance(other, self.__class__):\n",
    "            return cmp(self.__class__, type(other))\n",
    "        return cmp(self.key, other.key)\n",
    "\n",
    "    def __call__(self):\n",
    "        \"\"\"Return a strong reference to the bound method.\n",
    "\n",
    "        If the target cannot be retrieved, then will return None,\n",
    "        otherwise returns a bound instance method for our object and\n",
    "        function.\n",
    "\n",
    "        Note: You may call this method any number of times, as it does\n",
    "        not invalidate the reference.\n",
    "        \"\"\"\n",
    "        target = self.weak_self()\n",
    "        if target is not None:\n",
    "            function = self.weak_func()\n",
    "            if function is not None:\n",
    "                return function.__get__(target)\n",
    "        return None"
   ]
  },
  {
   "cell_type": "code",
   "execution_count": 386,
   "metadata": {},
   "outputs": [
    {
     "data": {
      "text/plain": [
       "<bound method A.f of <__main__.A object at 0x7f372c3fd9e8>>"
      ]
     },
     "execution_count": 386,
     "metadata": {},
     "output_type": "execute_result"
    }
   ],
   "source": [
    "a = A();a.f"
   ]
  },
  {
   "cell_type": "markdown",
   "metadata": {},
   "source": [
    "总之: BoundMethodWeakref封装了bound method的ref...如果bound method的`__function__` or `__self__`被销毁，那么这个ref跟着销毁."
   ]
  },
  {
   "cell_type": "code",
   "execution_count": 387,
   "metadata": {},
   "outputs": [],
   "source": [
    "def on_deleted(*args, **kwargs):\n",
    "    print('on deleted')\n",
    "    \n",
    "ref_a = BoundMethodWeakref(a.f,on_delete=on_deleted)"
   ]
  },
  {
   "cell_type": "code",
   "execution_count": 388,
   "metadata": {},
   "outputs": [
    {
     "data": {
      "text/plain": [
       "<weakref at 0x7f372c3de7c8; to 'function' at 0x7f372c4062f0 (f)>"
      ]
     },
     "execution_count": 388,
     "metadata": {},
     "output_type": "execute_result"
    }
   ],
   "source": [
    "ref_a.weak_func"
   ]
  },
  {
   "cell_type": "code",
   "execution_count": 389,
   "metadata": {},
   "outputs": [
    {
     "data": {
      "text/plain": [
       "<weakref at 0x7f372c3de868; to 'A' at 0x7f372c3fd9e8>"
      ]
     },
     "execution_count": 389,
     "metadata": {},
     "output_type": "execute_result"
    }
   ],
   "source": [
    "ref_a.weak_self"
   ]
  },
  {
   "cell_type": "code",
   "execution_count": 390,
   "metadata": {},
   "outputs": [
    {
     "data": {
      "text/plain": [
       "'0x7f372c3fd9e8'"
      ]
     },
     "execution_count": 390,
     "metadata": {},
     "output_type": "execute_result"
    }
   ],
   "source": [
    "hex(id(a))"
   ]
  },
  {
   "cell_type": "code",
   "execution_count": 391,
   "metadata": {},
   "outputs": [
    {
     "data": {
      "text/plain": [
       "'0x7f372c3fd9e8'"
      ]
     },
     "execution_count": 391,
     "metadata": {},
     "output_type": "execute_result"
    }
   ],
   "source": [
    "hex(id(a))"
   ]
  },
  {
   "cell_type": "code",
   "execution_count": 392,
   "metadata": {},
   "outputs": [
    {
     "name": "stdout",
     "output_type": "stream",
     "text": [
      "0x7f372c38b0f0 0x7f372c4062f0 BoundMethodWeakref(<__main__.A object at 0x7f372c38b0f0>.f)\n",
      "0x7f372c3fafd0 0x7f372c4062f0 BoundMethodWeakref(<__main__.A object at 0x7f372c3fafd0>.f)\n",
      "0x7f372c3d1a58 0x7f372c4062f0 BoundMethodWeakref(<__main__.A object at 0x7f372c3d1a58>.f)\n",
      "0x7f372c3fd048 0x7f372c4062f0 BoundMethodWeakref(<__main__.A object at 0x7f372c3fd048>.f)\n",
      "0x7f372c3fd9e8 0x7f372c4062f0 BoundMethodWeakref(<__main__.A object at 0x7f372c3fd9e8>.f)\n"
     ]
    }
   ],
   "source": [
    "for k,v in ref_a._all_instances.items():\n",
    "    print(hex(k[0]),hex(k[1]),v)"
   ]
  },
  {
   "cell_type": "code",
   "execution_count": 396,
   "metadata": {},
   "outputs": [],
   "source": [
    "get_self = operator.attrgetter('__self__')"
   ]
  },
  {
   "cell_type": "code",
   "execution_count": 397,
   "metadata": {},
   "outputs": [],
   "source": [
    "a_self = get_self(a.f)"
   ]
  },
  {
   "cell_type": "code",
   "execution_count": 398,
   "metadata": {},
   "outputs": [
    {
     "data": {
      "text/plain": [
       "True"
      ]
     },
     "execution_count": 398,
     "metadata": {},
     "output_type": "execute_result"
    }
   ],
   "source": [
    "a_self == a"
   ]
  },
  {
   "cell_type": "code",
   "execution_count": 399,
   "metadata": {},
   "outputs": [
    {
     "data": {
      "text/plain": [
       "True"
      ]
     },
     "execution_count": 399,
     "metadata": {},
     "output_type": "execute_result"
    }
   ],
   "source": [
    "id(a_self) == id(a)"
   ]
  },
  {
   "cell_type": "markdown",
   "metadata": {},
   "source": [
    "## send实现"
   ]
  },
  {
   "cell_type": "markdown",
   "metadata": {},
   "source": [
    "```py\n",
    "def send(self,*senders,**kwargs):\n",
    "    ...\n",
    "    # 返回list list[1] 即执行callback\n",
    "    return [(receiver, receiver(sender, **kwargs))\n",
    "        for receiver in self.receivers_for(sender)]\n",
    "\n",
    "def receivers_for(self, sender):\n",
    "    \"\"\"Iterate all live receivers listening for *sender*.\"\"\"\n",
    "    # TODO: test receivers_for(ANY)\n",
    "    if self.receivers:\n",
    "        sender_id = hashable_identity(sender)\n",
    "        if sender_id in self._by_sender:\n",
    "            # 1个sender可能注册了好多callback\n",
    "            ids = (self._by_sender[ANY_ID] |\n",
    "                   self._by_sender[sender_id])\n",
    "        else:\n",
    "            ids = self._by_sender[ANY_ID].copy()\n",
    "        # 依次取出receiver\n",
    "        for receiver_id in ids:\n",
    "            receiver = self.receivers.get(receiver_id)\n",
    "            if receiver is None:\n",
    "                continue\n",
    "            if isinstance(receiver, WeakTypes):\n",
    "                #这是weakref的固定用法.\n",
    "                #b = weakref.ref(a,xxx);\n",
    "                #b().function(xxx)\n",
    "                strong = receiver()\n",
    "                if strong is None:\n",
    "                    self._disconnect(receiver_id, ANY_ID)\n",
    "                    continue\n",
    "                receiver = strong\n",
    "            yield receiver\n",
    "```\n"
   ]
  },
  {
   "cell_type": "code",
   "execution_count": null,
   "metadata": {},
   "outputs": [],
   "source": []
  }
 ],
 "metadata": {
  "kernelspec": {
   "display_name": "Python 3",
   "language": "python",
   "name": "python3"
  },
  "language_info": {
   "codemirror_mode": {
    "name": "ipython",
    "version": 3
   },
   "file_extension": ".py",
   "mimetype": "text/x-python",
   "name": "python",
   "nbconvert_exporter": "python",
   "pygments_lexer": "ipython3",
   "version": "3.6.5"
  },
  "toc": {
   "base_numbering": 1,
   "nav_menu": {},
   "number_sections": true,
   "sideBar": true,
   "skip_h1_title": false,
   "title_cell": "Table of Contents",
   "title_sidebar": "Contents",
   "toc_cell": false,
   "toc_position": {},
   "toc_section_display": true,
   "toc_window_display": false
  }
 },
 "nbformat": 4,
 "nbformat_minor": 2
}
