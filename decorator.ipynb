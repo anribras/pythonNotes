{
 "cells": [
  {
   "cell_type": "markdown",
   "metadata": {},
   "source": [
    "# 装饰器"
   ]
  },
  {
   "cell_type": "markdown",
   "metadata": {
    "heading_collapsed": true
   },
   "source": [
    "## 基础"
   ]
  },
  {
   "cell_type": "markdown",
   "metadata": {
    "hidden": true
   },
   "source": [
    "回到问题的本质。对于1个函数:"
   ]
  },
  {
   "cell_type": "code",
   "execution_count": 1,
   "metadata": {
    "hidden": true
   },
   "outputs": [],
   "source": [
    "def func(a,b):\n",
    "    print(func.__name__)"
   ]
  },
  {
   "cell_type": "markdown",
   "metadata": {
    "hidden": true
   },
   "source": [
    "希望多做点什么，但又不改变函数,可以这样，但是每次都新写wrapper，把a,b传到func，挺麻烦的"
   ]
  },
  {
   "cell_type": "code",
   "execution_count": 2,
   "metadata": {
    "hidden": true
   },
   "outputs": [],
   "source": [
    "def wrapper(c,a,b):\n",
    "    print('before! c = %s' %c)\n",
    "    func(a,b)\n",
    "    print('after! c = %s' %c)"
   ]
  },
  {
   "cell_type": "markdown",
   "metadata": {
    "hidden": true
   },
   "source": [
    "一切函数皆对象，对所有func来个通用的wapper,其实更强调的是wrapper加入的功能，而不是func的功能。"
   ]
  },
  {
   "cell_type": "code",
   "execution_count": 3,
   "metadata": {
    "hidden": true
   },
   "outputs": [
    {
     "name": "stdout",
     "output_type": "stream",
     "text": [
      "before! c = <function some_func at 0x7f5b18071e18>\n",
      "in function! c = <function wrapper_better.<locals>.func at 0x7f5b0a79d2f0>\n",
      "func\n"
     ]
    }
   ],
   "source": [
    "def wrapper_better(func):\n",
    "    print('before! c = %s' %func)\n",
    "    def func(a,b):\n",
    "        print('in function! c = %s' %func)\n",
    "        print(func.__name__)\n",
    "    return func\n",
    "\n",
    "def some_func():\n",
    "    print('some func')\n",
    "wrapper_better(some_func)(2,3)"
   ]
  },
  {
   "cell_type": "markdown",
   "metadata": {
    "hidden": true
   },
   "source": [
    "但是`wrapper_better(some_func)(2,3)`调用起来麻烦呀? 上@的语法糖好了:@的时候相当于就调用了1次"
   ]
  },
  {
   "cell_type": "code",
   "execution_count": 4,
   "metadata": {
    "hidden": true
   },
   "outputs": [
    {
     "name": "stdout",
     "output_type": "stream",
     "text": [
      "before! c = <function another_func at 0x7f5b0a79bea0>\n"
     ]
    }
   ],
   "source": [
    "@wrapper_better\n",
    "def another_func(a,b):\n",
    "    print('yet another_func excuting..')"
   ]
  },
  {
   "cell_type": "code",
   "execution_count": 5,
   "metadata": {
    "hidden": true
   },
   "outputs": [
    {
     "name": "stdout",
     "output_type": "stream",
     "text": [
      "in function! c = <function wrapper_better.<locals>.func at 0x7f5b18071ea0>\n",
      "func\n"
     ]
    }
   ],
   "source": [
    "another_func(1,2)"
   ]
  },
  {
   "cell_type": "markdown",
   "metadata": {
    "hidden": true
   },
   "source": [
    "装饰器其实就是一个闭包，把一个函数当做参数然后返回一个替代版函数\n",
    "相当于@的时候，就已经执行了1次\n",
    "```\n",
    "another_func = wrapper_better(another_func)(1,2)\n",
    "```"
   ]
  },
  {
   "cell_type": "markdown",
   "metadata": {
    "hidden": true
   },
   "source": [
    "现在想wrapper任何函数，而不是形如func(a,b)? 下面的报错呢"
   ]
  },
  {
   "cell_type": "code",
   "execution_count": 6,
   "metadata": {
    "hidden": true
   },
   "outputs": [
    {
     "ename": "TypeError",
     "evalue": "func() takes 2 positional arguments but 3 were given",
     "output_type": "error",
     "traceback": [
      "\u001b[0;31m---------------------------------------------------------------------------\u001b[0m",
      "\u001b[0;31mTypeError\u001b[0m                                 Traceback (most recent call last)",
      "\u001b[0;32m<ipython-input-6-996850064b15>\u001b[0m in \u001b[0;36m<module>\u001b[0;34m\u001b[0m\n\u001b[0;32m----> 1\u001b[0;31m \u001b[0manother_func\u001b[0m\u001b[0;34m(\u001b[0m\u001b[0;36m1\u001b[0m\u001b[0;34m,\u001b[0m\u001b[0;36m2\u001b[0m\u001b[0;34m,\u001b[0m\u001b[0;36m3\u001b[0m\u001b[0;34m)\u001b[0m\u001b[0;34m\u001b[0m\u001b[0m\n\u001b[0m",
      "\u001b[0;31mTypeError\u001b[0m: func() takes 2 positional arguments but 3 were given"
     ]
    }
   ],
   "source": [
    "another_func(1,2,3)"
   ]
  },
  {
   "cell_type": "markdown",
   "metadata": {
    "hidden": true
   },
   "source": [
    "用func(\\*args,\\*\\*kwarg) !!"
   ]
  },
  {
   "cell_type": "code",
   "execution_count": 7,
   "metadata": {
    "hidden": true
   },
   "outputs": [
    {
     "name": "stdout",
     "output_type": "stream",
     "text": [
      "Done func_1\n",
      "1\n",
      "Done func_2\n",
      "1 2\n"
     ]
    }
   ],
   "source": [
    "def varg_wrapper(func):\n",
    "    def wrapper(*args,**kwarg):\n",
    "        print('Done '+ func.__name__)\n",
    "        func(*args)\n",
    "    return wrapper\n",
    "\n",
    "@varg_wrapper\n",
    "def func_1(a):\n",
    "    print(a)\n",
    "    \n",
    "@varg_wrapper\n",
    "def func_2(a,b):\n",
    "    print(a,b)\n",
    "    \n",
    "func_1(1)\n",
    "func_2(1,2)"
   ]
  },
  {
   "cell_type": "markdown",
   "metadata": {
    "hidden": true
   },
   "source": [
    "希望装饰器时，也能传入一些参数,就再包一层"
   ]
  },
  {
   "cell_type": "code",
   "execution_count": 8,
   "metadata": {
    "hidden": true
   },
   "outputs": [
    {
     "name": "stdout",
     "output_type": "stream",
     "text": [
      "external \n",
      "Done func_1\n",
      "varg paras from wrapper hey\n",
      "kw paras from wrapper {'again': 'hey man'}\n",
      "1\n"
     ]
    }
   ],
   "source": [
    "def vargs_wrapper(*wargs, **wkargs):\n",
    "    def external_wrapper(func):\n",
    "        print('external ')\n",
    "        def wrapper(*args,**kwarg):\n",
    "            print('Done '+ func.__name__)\n",
    "            if wargs:\n",
    "                print('varg paras from wrapper %s' % wargs)\n",
    "            if wkargs:\n",
    "                print('kw paras from wrapper %s' % wkargs)\n",
    "                \n",
    "            func(*args)\n",
    "        return wrapper\n",
    "    return external_wrapper\n",
    "\n",
    "@vargs_wrapper(\"hey\",again=\"hey man\")\n",
    "def func_1(a):\n",
    "    print(a)\n",
    "    \n",
    "func_1(1)"
   ]
  },
  {
   "cell_type": "markdown",
   "metadata": {
    "hidden": true
   },
   "source": [
    "看到@app.route 这种装饰器莫慌, 下面是模拟flask李的route装饰器实现方法."
   ]
  },
  {
   "cell_type": "markdown",
   "metadata": {},
   "source": [
    "## 其他装饰"
   ]
  },
  {
   "cell_type": "markdown",
   "metadata": {
    "heading_collapsed": true
   },
   "source": [
    "### 函数装饰类"
   ]
  },
  {
   "cell_type": "markdown",
   "metadata": {
    "hidden": true
   },
   "source": [
    "上面都是用1个函数装饰另外1个函数，能不能用函数装饰类呢？当然是可以的..\n",
    "\n",
    "函数装饰的是类，仍然相当于 \n",
    "```\n",
    "oldclass = class_wrapper(oldclass)\n",
    "```\n",
    "\n",
    "装饰类干什么呢? 比如类初始化前希望引入某些调用,加些打印什么的"
   ]
  },
  {
   "cell_type": "code",
   "execution_count": 9,
   "metadata": {
    "hidden": true
   },
   "outputs": [
    {
     "name": "stdout",
     "output_type": "stream",
     "text": [
      "before create Funny object\n"
     ]
    },
    {
     "data": {
      "text/plain": [
       "<__main__.Funny at 0x7f5b0a719240>"
      ]
     },
     "execution_count": 9,
     "metadata": {},
     "output_type": "execute_result"
    }
   ],
   "source": [
    "def class_wraper(cls):\n",
    "    def inner(*args,**kwarg):\n",
    "        print('before create %s object' % cls.__name__)\n",
    "        return cls(*args,**kwarg)\n",
    "    return inner\n",
    "\n",
    "@class_wraper\n",
    "class Funny(object):\n",
    "    pass\n",
    "\n",
    "Funny()"
   ]
  },
  {
   "cell_type": "markdown",
   "metadata": {
    "heading_collapsed": true
   },
   "source": [
    "### 类装饰函数"
   ]
  },
  {
   "cell_type": "code",
   "execution_count": 10,
   "metadata": {
    "hidden": true
   },
   "outputs": [
    {
     "name": "stdout",
     "output_type": "stream",
     "text": [
      "yo?\n",
      "1 2 3\n"
     ]
    }
   ],
   "source": [
    "class WrapClass(object):\n",
    "    def __init__(self,func):\n",
    "        self.func = func\n",
    "    def __call__(self,*args, **kwarg):\n",
    "            print('yo?')\n",
    "            self.func(*args,**kwarg)\n",
    "\n",
    "@WrapClass\n",
    "def func(a,b,c=\"c\"):\n",
    "    print(a,b,c)\n",
    "    pass\n",
    "\n",
    "# same as func(1,2,c=3) <=> WrapClass(func)(1,2,c=3)\n",
    "func(1,2,c=3)"
   ]
  },
  {
   "cell_type": "markdown",
   "metadata": {
    "heading_collapsed": true
   },
   "source": [
    "### 类装饰类"
   ]
  },
  {
   "cell_type": "markdown",
   "metadata": {
    "hidden": true
   },
   "source": [
    "\n",
    "这种比较少见，单是实现上是没有问题的,仍然是!\n",
    "```\n",
    "OldClass = WrapClass(OldClass)\n",
    "```"
   ]
  },
  {
   "cell_type": "code",
   "execution_count": 12,
   "metadata": {
    "hidden": true
   },
   "outputs": [
    {
     "name": "stdout",
     "output_type": "stream",
     "text": [
      "init a ! oooo\n"
     ]
    },
    {
     "data": {
      "text/plain": [
       "<__main__.OldClass at 0x7f5b0a719a90>"
      ]
     },
     "execution_count": 12,
     "metadata": {},
     "output_type": "execute_result"
    }
   ],
   "source": [
    "#这样的class和咸鱼...不，函数有什么区别?\n",
    "class WrapClass(object):\n",
    "    def __init__(self,cls):\n",
    "        self.cls = cls\n",
    "    def __call__(self):\n",
    "        print('before creation')\n",
    "        return self.cls\n",
    "\n",
    "# @WrapClass\n",
    "class OldClass:\n",
    "    def __init__(self,a):\n",
    "        print('init a ! %s'%a)\n",
    "\n",
    "#到底是初始化，还是当函数调用?\n",
    "OldClass(\"oooo\")"
   ]
  },
  {
   "cell_type": "markdown",
   "metadata": {
    "heading_collapsed": true
   },
   "source": [
    "## 名字代替的问题"
   ]
  },
  {
   "cell_type": "code",
   "execution_count": 13,
   "metadata": {
    "hidden": true
   },
   "outputs": [],
   "source": [
    "def log(func):\n",
    "    def wrapper(*args, **kw):\n",
    "        print('call %s():' % func.__name__)\n",
    "        return func(*args, **kw)\n",
    "    return wrapper\n",
    "@log\n",
    "def now():\n",
    "    print('2015-3-25')"
   ]
  },
  {
   "cell_type": "markdown",
   "metadata": {
    "hidden": true
   },
   "source": [
    "now的name变成wapper啦"
   ]
  },
  {
   "cell_type": "code",
   "execution_count": 14,
   "metadata": {
    "hidden": true
   },
   "outputs": [
    {
     "data": {
      "text/plain": [
       "'wrapper'"
      ]
     },
     "execution_count": 14,
     "metadata": {},
     "output_type": "execute_result"
    }
   ],
   "source": [
    "now.__name__"
   ]
  },
  {
   "cell_type": "markdown",
   "metadata": {
    "hidden": true
   },
   "source": [
    "以下方式保存原名称:"
   ]
  },
  {
   "cell_type": "code",
   "execution_count": 15,
   "metadata": {
    "hidden": true
   },
   "outputs": [],
   "source": [
    "import functools\n",
    "def log(func):\n",
    "    @functools.wraps(func)\n",
    "    def wrapper(*args, **kw):\n",
    "        print('call %s():' % func.__name__)\n",
    "        return func(*args, **kw)\n",
    "    return wrapper\n",
    "@log\n",
    "def now():\n",
    "    print('2015-3-25')"
   ]
  },
  {
   "cell_type": "code",
   "execution_count": 16,
   "metadata": {
    "hidden": true
   },
   "outputs": [
    {
     "data": {
      "text/plain": [
       "'now'"
      ]
     },
     "execution_count": 16,
     "metadata": {},
     "output_type": "execute_result"
    }
   ],
   "source": [
    "now.__name__"
   ]
  },
  {
   "cell_type": "markdown",
   "metadata": {
    "heading_collapsed": true
   },
   "source": [
    "## 例子1 装饰器里加回调的注册 "
   ]
  },
  {
   "cell_type": "code",
   "execution_count": 17,
   "metadata": {
    "hidden": true
   },
   "outputs": [],
   "source": [
    "def hook(**kwargs):\n",
    "    def wap(func):\n",
    "            @functools.wraps(func)\n",
    "            def wrapper(*args, **kw):\n",
    "                if 'before' in kwargs:\n",
    "                    kwargs['before']( kwargs['before_args'] )\n",
    "                ret = func(*args, **kw)\n",
    "                if 'after' in kwargs:\n",
    "                    kwargs['after']( kwargs['after_args'] )\n",
    "                return ret\n",
    "            return wrapper\n",
    "    return wap\n",
    "\n",
    "def cbs(strs):\n",
    "    print(strs)\n",
    "    \n",
    "def now():\n",
    "    print('2015-3-25')"
   ]
  },
  {
   "cell_type": "code",
   "execution_count": 18,
   "metadata": {
    "hidden": true
   },
   "outputs": [],
   "source": [
    "@hook(before=cbs,before_args='before',after=cbs,after_args='after')\n",
    "def now():\n",
    "    print('2015-3-25')"
   ]
  },
  {
   "cell_type": "code",
   "execution_count": 19,
   "metadata": {
    "hidden": true
   },
   "outputs": [
    {
     "name": "stdout",
     "output_type": "stream",
     "text": [
      "before\n",
      "2015-3-25\n",
      "after\n"
     ]
    }
   ],
   "source": [
    "now()"
   ]
  },
  {
   "cell_type": "markdown",
   "metadata": {
    "hidden": true
   },
   "source": [
    "执行的效果是:`now = hook(xxxx)(now)`"
   ]
  },
  {
   "cell_type": "markdown",
   "metadata": {
    "heading_collapsed": true
   },
   "source": [
    "## 例子2  模拟c function static variable"
   ]
  },
  {
   "cell_type": "code",
   "execution_count": 20,
   "metadata": {
    "hidden": true
   },
   "outputs": [],
   "source": [
    "def static_vars(**kwargs):\n",
    "    \"\"\"\n",
    "    static vars decorater\n",
    "    \"\"\"\n",
    "    #funciton static variable as C\n",
    "    def decorate(func):\n",
    "        for k in kwargs:\n",
    "            setattr(func, k, kwargs[k])\n",
    "        return func\n",
    "    return decorate"
   ]
  },
  {
   "cell_type": "code",
   "execution_count": 21,
   "metadata": {
    "hidden": true
   },
   "outputs": [],
   "source": [
    "@static_vars(idx=0)\n",
    "def func():\n",
    "    func.idx +=1\n",
    "    print(func.idx)"
   ]
  },
  {
   "cell_type": "markdown",
   "metadata": {
    "heading_collapsed": true
   },
   "source": [
    "## 例子3 模拟flask route装饰器实现"
   ]
  },
  {
   "cell_type": "code",
   "execution_count": null,
   "metadata": {
    "hidden": true
   },
   "outputs": [],
   "source": [
    "class app(object):\n",
    "    # \"router_name\":callback 的dict，核心就在这\n",
    "    _callback = {}\n",
    "    @classmethod\n",
    "    def route(cls,router='/'):\n",
    "        def middle_router(func):\n",
    "            print('Add route_path=%s' % router)\n",
    "            app._callback[router] = func\n",
    "            def inner_router(requests):\n",
    "                print('? called?')\n",
    "                #传参进来，又要回调 比较难!\n",
    "#                 app._args = args\n",
    "#                 app._kwargs = kwarg\n",
    "                #这里决定了装饰后函数还能调用吗？这个看需求\n",
    "                func(*args,**kwarg)\n",
    "                pass\n",
    "            return inner_router\n",
    "        return middle_router\n",
    "    \n",
    "    @classmethod\n",
    "    def serve_forever(cls):\n",
    "        print('in loop')\n",
    "        \n",
    "        import time\n",
    "        print('in loop %s' % app._callback.keys())\n",
    "        while(True):\n",
    "            \n",
    "            time.sleep(1)\n",
    "#             def parse_url(): return '/a/b/c'\n",
    "            def parse_url(): return '/v1/image'\n",
    "            def read_requests(): return 'requests header'\n",
    "            #http came\n",
    "            url = parse_url()\n",
    "            request = read_requests()\n",
    "            # is it a router?\n",
    "#             print('inner got url %s' % url)\n",
    "            if url in app._callback:\n",
    "                    # Really callback is here, and pass a receiving requests to callbacks\n",
    "                    app._callback[url](read_requests)\n",
    "    \n",
    "    \n",
    "\n",
    "# app.route应该是类方法，无非就是用类把装饰函数的实现再统一一下\n",
    "@app.route('/a/b/c')\n",
    "def on_response(requests):\n",
    "    print('/a/b/c on_response')\n",
    "    return {'status':200}\n",
    "\n",
    "@app.route('/v1/image')\n",
    "def on_response(requests):\n",
    "    print('/v1/image/ on_response')\n",
    "    return {'status':200}\n",
    "\n",
    "# loop is neccessary \n",
    "app.serve_forever()"
   ]
  },
  {
   "cell_type": "markdown",
   "metadata": {},
   "source": [
    "## 总结"
   ]
  },
  {
   "cell_type": "markdown",
   "metadata": {},
   "source": [
    "所有的装饰，记住装饰的目的是改变被装饰对象，并替换到被装饰对象，华丽的替身...\n",
    "\n",
    "```\n",
    "func <=> func_wraper(func)\n",
    "func(1,2,3) <=> func_wraper(1,2,3)\n",
    "```"
   ]
  }
 ],
 "metadata": {
  "kernelspec": {
   "display_name": "Python 3",
   "language": "python",
   "name": "python3"
  },
  "language_info": {
   "codemirror_mode": {
    "name": "ipython",
    "version": 3
   },
   "file_extension": ".py",
   "mimetype": "text/x-python",
   "name": "python",
   "nbconvert_exporter": "python",
   "pygments_lexer": "ipython3",
   "version": "3.6.5"
  },
  "toc": {
   "base_numbering": 1,
   "nav_menu": {},
   "number_sections": true,
   "sideBar": true,
   "skip_h1_title": false,
   "title_cell": "Table of Contents",
   "title_sidebar": "Contents",
   "toc_cell": false,
   "toc_position": {},
   "toc_section_display": true,
   "toc_window_display": false
  }
 },
 "nbformat": 4,
 "nbformat_minor": 2
}
