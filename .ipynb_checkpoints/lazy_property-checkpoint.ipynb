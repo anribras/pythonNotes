{
 "cells": [
  {
   "cell_type": "markdown",
   "metadata": {},
   "source": [
    "# lazy_property\n",
    "就是代理模式中的虚拟代理\n",
    "类似单例的懒汉模式\n",
    "\n",
    "https://stackoverflow.com/questions/24704147/python-what-is-a-lazy-property\n",
    "\n",
    "http://python.jobbole.com/85553/"
   ]
  },
  {
   "cell_type": "markdown",
   "metadata": {},
   "source": [
    "It is a property decorator that gets out of the way after the first call. It allows you to auto-cache a computed value."
   ]
  },
  {
   "cell_type": "markdown",
   "metadata": {},
   "source": [
    "## 普通property"
   ]
  },
  {
   "cell_type": "markdown",
   "metadata": {},
   "source": [
    "先看普通property(知识点:描述符类)"
   ]
  },
  {
   "cell_type": "code",
   "execution_count": 22,
   "metadata": {},
   "outputs": [],
   "source": [
    "class Test:\n",
    "    def __init__(self):\n",
    "        self.x='foo'\n",
    "        self.y='bar'\n",
    "        self._resouce=None\n",
    "    @property\n",
    "    def resource(self):\n",
    "        print('initializing self._resource which is: {}'.format(self._resouce))\n",
    "         # 代价大的操作，初始化数据库什么的\n",
    "        self._resouce=tuple(range(10)) \n",
    "        return self._resouce\n",
    "    @resource.setter\n",
    "    def set_resource(self,val):\n",
    "        self._resouce = val"
   ]
  },
  {
   "cell_type": "code",
   "execution_count": 1,
   "metadata": {},
   "outputs": [
    {
     "ename": "NameError",
     "evalue": "name 'Test' is not defined",
     "output_type": "error",
     "traceback": [
      "\u001b[0;31m---------------------------------------------------------------------------\u001b[0m",
      "\u001b[0;31mNameError\u001b[0m                                 Traceback (most recent call last)",
      "\u001b[0;32m<ipython-input-1-57ee07e6cc45>\u001b[0m in \u001b[0;36m<module>\u001b[0;34m\u001b[0m\n\u001b[0;32m----> 1\u001b[0;31m \u001b[0mt\u001b[0m \u001b[0;34m=\u001b[0m \u001b[0mTest\u001b[0m\u001b[0;34m(\u001b[0m\u001b[0;34m)\u001b[0m\u001b[0;34m\u001b[0m\u001b[0m\n\u001b[0m",
      "\u001b[0;31mNameError\u001b[0m: name 'Test' is not defined"
     ]
    }
   ],
   "source": [
    "t = Test()"
   ]
  },
  {
   "cell_type": "code",
   "execution_count": 24,
   "metadata": {},
   "outputs": [
    {
     "data": {
      "text/plain": [
       "<property at 0x7f118822bf98>"
      ]
     },
     "execution_count": 24,
     "metadata": {},
     "output_type": "execute_result"
    }
   ],
   "source": [
    "Test.resource"
   ]
  },
  {
   "cell_type": "code",
   "execution_count": 25,
   "metadata": {},
   "outputs": [
    {
     "name": "stdout",
     "output_type": "stream",
     "text": [
      "initializing self._resource which is: None\n"
     ]
    },
    {
     "data": {
      "text/plain": [
       "(0, 1, 2, 3, 4, 5, 6, 7, 8, 9)"
      ]
     },
     "execution_count": 25,
     "metadata": {},
     "output_type": "execute_result"
    }
   ],
   "source": [
    "t.resource"
   ]
  },
  {
   "cell_type": "code",
   "execution_count": 26,
   "metadata": {},
   "outputs": [
    {
     "data": {
      "text/plain": [
       "{'x': 'foo', 'y': 'bar', '_resouce': (0, 1, 2, 3, 4, 5, 6, 7, 8, 9)}"
      ]
     },
     "execution_count": 26,
     "metadata": {},
     "output_type": "execute_result"
    }
   ],
   "source": [
    "t.__dict__"
   ]
  },
  {
   "cell_type": "code",
   "execution_count": 20,
   "metadata": {},
   "outputs": [
    {
     "ename": "AttributeError",
     "evalue": "can't set attribute",
     "output_type": "error",
     "traceback": [
      "\u001b[0;31m---------------------------------------------------------------------------\u001b[0m",
      "\u001b[0;31mAttributeError\u001b[0m                            Traceback (most recent call last)",
      "\u001b[0;32m<ipython-input-20-9103ea06aec2>\u001b[0m in \u001b[0;36m<module>\u001b[0;34m\u001b[0m\n\u001b[0;32m----> 1\u001b[0;31m \u001b[0mt\u001b[0m\u001b[0;34m.\u001b[0m\u001b[0mresource\u001b[0m \u001b[0;34m=\u001b[0m \u001b[0;36m1\u001b[0m\u001b[0;34m\u001b[0m\u001b[0m\n\u001b[0m",
      "\u001b[0;31mAttributeError\u001b[0m: can't set attribute"
     ]
    }
   ],
   "source": [
    "t.resource = 1"
   ]
  },
  {
   "cell_type": "markdown",
   "metadata": {},
   "source": [
    "每次调用，都会初始化资源，如果资源很重，挺麻烦"
   ]
  },
  {
   "cell_type": "code",
   "execution_count": 434,
   "metadata": {},
   "outputs": [
    {
     "name": "stdout",
     "output_type": "stream",
     "text": [
      "initializing self._resource which is: (0, 1, 2, 3, 4, 5, 6, 7, 8, 9)\n"
     ]
    },
    {
     "data": {
      "text/plain": [
       "(0, 1, 2, 3, 4, 5, 6, 7, 8, 9)"
      ]
     },
     "execution_count": 434,
     "metadata": {},
     "output_type": "execute_result"
    }
   ],
   "source": [
    "t.resource"
   ]
  },
  {
   "cell_type": "code",
   "execution_count": 435,
   "metadata": {},
   "outputs": [
    {
     "name": "stdout",
     "output_type": "stream",
     "text": [
      "initializing self._resource which is: (0, 1, 2, 3, 4, 5, 6, 7, 8, 9)\n"
     ]
    },
    {
     "data": {
      "text/plain": [
       "(0, 1, 2, 3, 4, 5, 6, 7, 8, 9)"
      ]
     },
     "execution_count": 435,
     "metadata": {},
     "output_type": "execute_result"
    }
   ],
   "source": [
    "t.resource"
   ]
  },
  {
   "cell_type": "markdown",
   "metadata": {},
   "source": [
    "## lazy_property"
   ]
  },
  {
   "cell_type": "markdown",
   "metadata": {},
   "source": [
    "核心就是setattr，让1次属性查找时，不再走__get__即描述符属性流程，而是直接从`instance.__dict__`中找到\n",
    "\n",
    "也类似thread_once这种\n",
    "    "
   ]
  },
  {
   "cell_type": "code",
   "execution_count": 2,
   "metadata": {},
   "outputs": [],
   "source": [
    "class LazyProperty(object):\n",
    "    def __init__(self,method):\n",
    "        self.method = method\n",
    "        self.method_name = method.__name__\n",
    "    # __get__是描述符的用法\n",
    "    def __get__(self,instance,owner):\n",
    "        # 必须有instance，意味Text.resource 永远return None\n",
    "        if not instance:\n",
    "            return None\n",
    "        # self.method是谁? 是resource(self)\n",
    "        # 所以调用原来的resource(self)时，需要传入instance作为参数(即self)\n",
    "        value = self.method(instance)\n",
    "#         print('set %s = %(self.method_name,value))\n",
    "        # 得到的值和属性名称，再设置为instance的1个属性,下次查找instance的method_name属性时，不会再调__get__了，因此\n",
    "        # value只会保存1次.\n",
    "        setattr(instance,self.method_name,value)\n",
    "        "
   ]
  },
  {
   "cell_type": "markdown",
   "metadata": {},
   "source": [
    "其实就是装饰器实现，解释:"
   ]
  },
  {
   "cell_type": "markdown",
   "metadata": {},
   "source": [
    "\n",
    "```\n",
    "resource  = LazyProperty(resource)\n",
    "1. resoucre变成了1个LazyProperty的实例，输入是原来的resource成员方法;\n",
    "2. LazyProperty定义了__get__，是1个描述符对象，这个对象的实例(即resource)作为Text的1个类成员，意味着它成为属性\n",
    "可以进行Text.resource = xxx的操作. __get__定义了 读取Text.resource时的动作.\n",
    "```"
   ]
  },
  {
   "cell_type": "code",
   "execution_count": 3,
   "metadata": {},
   "outputs": [],
   "source": [
    "class Test:\n",
    "    def __init__(self):\n",
    "        self.x='foo'\n",
    "        self.y='bar'\n",
    "        self._resouce=None\n",
    "    @LazyProperty\n",
    "    def resource(self):\n",
    "        print('initializing self._resource which is: {}'.format(self._resouce))\n",
    "         # 代价大的操作，初始化数据库什么的\n",
    "        self._resouce=tuple(range(10)) \n",
    "        return self._resouce\n"
   ]
  },
  {
   "cell_type": "code",
   "execution_count": 4,
   "metadata": {},
   "outputs": [],
   "source": [
    "t= Test()"
   ]
  },
  {
   "cell_type": "code",
   "execution_count": 5,
   "metadata": {},
   "outputs": [
    {
     "data": {
      "text/plain": [
       "'foo'"
      ]
     },
     "execution_count": 5,
     "metadata": {},
     "output_type": "execute_result"
    }
   ],
   "source": [
    "t.x"
   ]
  },
  {
   "cell_type": "code",
   "execution_count": 6,
   "metadata": {},
   "outputs": [
    {
     "data": {
      "text/plain": [
       "'bar'"
      ]
     },
     "execution_count": 6,
     "metadata": {},
     "output_type": "execute_result"
    }
   ],
   "source": [
    "t.y"
   ]
  },
  {
   "cell_type": "code",
   "execution_count": 7,
   "metadata": {},
   "outputs": [
    {
     "name": "stdout",
     "output_type": "stream",
     "text": [
      "initializing self._resource which is: None\n"
     ]
    }
   ],
   "source": [
    "t.resource"
   ]
  },
  {
   "cell_type": "markdown",
   "metadata": {},
   "source": [
    "核心就是它，第1次访问为None,但是已经create了，第2次访问 (实际要多lazy，取决于实现)t.resource时，不再创建，直接返回."
   ]
  },
  {
   "cell_type": "code",
   "execution_count": 8,
   "metadata": {},
   "outputs": [
    {
     "data": {
      "text/plain": [
       "(0, 1, 2, 3, 4, 5, 6, 7, 8, 9)"
      ]
     },
     "execution_count": 8,
     "metadata": {},
     "output_type": "execute_result"
    }
   ],
   "source": [
    "t.resource"
   ]
  },
  {
   "cell_type": "code",
   "execution_count": 9,
   "metadata": {},
   "outputs": [
    {
     "data": {
      "text/plain": [
       "(0, 1, 2, 3, 4, 5, 6, 7, 8, 9)"
      ]
     },
     "execution_count": 9,
     "metadata": {},
     "output_type": "execute_result"
    }
   ],
   "source": [
    "t.resource"
   ]
  },
  {
   "cell_type": "markdown",
   "metadata": {},
   "source": [
    "## 应用"
   ]
  },
  {
   "cell_type": "markdown",
   "metadata": {
    "heading_collapsed": true
   },
   "source": [
    "### werkzurg里的cached_property"
   ]
  },
  {
   "cell_type": "markdown",
   "metadata": {},
   "source": [
    "### blinker直接定义了lazy_property"
   ]
  },
  {
   "cell_type": "markdown",
   "metadata": {},
   "source": [
    "```py\n",
    "class lazy_property(object):\n",
    "    \"\"\"A @property that is only evaluated once.\"\"\"\n",
    "\n",
    "    def __init__(self, deferred):\n",
    "        self._deferred = deferred\n",
    "        self.__doc__ = deferred.__doc__\n",
    "\n",
    "    def __get__(self, obj, cls):\n",
    "        if obj is None:\n",
    "            return self\n",
    "        value = self._deferred(obj)\n",
    "        setattr(obj, self._deferred.__name__, value)\n",
    "        return value\n",
    "```"
   ]
  },
  {
   "cell_type": "markdown",
   "metadata": {},
   "source": [
    "使用的地方，receiver_connected是1个属性，也是1个Signal对象"
   ]
  },
  {
   "cell_type": "markdown",
   "metadata": {},
   "source": [
    "```py\n",
    "class Signal(object):\n",
    "    \"\"\"A notification emitter.\"\"\"\n",
    "\n",
    "    #: An :obj:`ANY` convenience synonym, allows ``Signal.ANY``\n",
    "    #: without an additional import.\n",
    "    ANY = ANY\n",
    "\n",
    "    @lazy_property\n",
    "    def receiver_connected(self):\n",
    "        \"\"\"Emitted after each :meth:`connect`.\n",
    "\n",
    "        The signal sender is the signal instance, and the :meth:`connect`\n",
    "        arguments are passed through: *receiver*, *sender*, and *weak*.\n",
    "\n",
    "        .. versionadded:: 1.2\n",
    "\n",
    "        \"\"\"\n",
    "        return Signal(doc=\"Emitted after a receiver connects.\")\n",
    "```"
   ]
  },
  {
   "cell_type": "code",
   "execution_count": null,
   "metadata": {},
   "outputs": [],
   "source": []
  }
 ],
 "metadata": {
  "kernelspec": {
   "display_name": "Python 3",
   "language": "python",
   "name": "python3"
  },
  "language_info": {
   "codemirror_mode": {
    "name": "ipython",
    "version": 3
   },
   "file_extension": ".py",
   "mimetype": "text/x-python",
   "name": "python",
   "nbconvert_exporter": "python",
   "pygments_lexer": "ipython3",
   "version": "3.6.5"
  },
  "toc": {
   "base_numbering": 1,
   "nav_menu": {},
   "number_sections": true,
   "sideBar": true,
   "skip_h1_title": false,
   "title_cell": "Table of Contents",
   "title_sidebar": "Contents",
   "toc_cell": false,
   "toc_position": {},
   "toc_section_display": true,
   "toc_window_display": false
  }
 },
 "nbformat": 4,
 "nbformat_minor": 2
}
