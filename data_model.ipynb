{
 "cells": [
  {
   "cell_type": "markdown",
   "metadata": {},
   "source": [
    "# python data models\n",
    "https://docs.python.org/3/reference/datamodel.html"
   ]
  },
  {
   "cell_type": "markdown",
   "metadata": {},
   "source": [
    "先理解下 `class/object/instance` 和`method/function`的区别"
   ]
  },
  {
   "cell_type": "markdown",
   "metadata": {},
   "source": [
    "https://www.codecademy.com/en/forum_questions/558cd3fc76b8fe06280002ce"
   ]
  },
  {
   "cell_type": "code",
   "execution_count": 14,
   "metadata": {},
   "outputs": [],
   "source": [
    "# A is a class\n",
    "class A:\n",
    "    def __init__(self,a=0):\n",
    "        self.a = a\n",
    "    def f(self):\n",
    "        pass\n",
    "# Objects can contain arbitrary amounts and kinds of data, without ids. \n",
    "# Objects are Python’s abstraction for data.\n",
    "# creates a new instance of the class and assigns one object to the local variable x."
   ]
  },
  {
   "cell_type": "code",
   "execution_count": 15,
   "metadata": {},
   "outputs": [],
   "source": [
    "c =  d = A()"
   ]
  },
  {
   "cell_type": "code",
   "execution_count": 16,
   "metadata": {},
   "outputs": [
    {
     "data": {
      "text/plain": [
       "True"
      ]
     },
     "execution_count": 16,
     "metadata": {},
     "output_type": "execute_result"
    }
   ],
   "source": [
    "id(c)==id(d)"
   ]
  },
  {
   "cell_type": "code",
   "execution_count": 17,
   "metadata": {},
   "outputs": [
    {
     "data": {
      "text/plain": [
       "False"
      ]
     },
     "execution_count": 17,
     "metadata": {},
     "output_type": "execute_result"
    }
   ],
   "source": [
    "id(a) == id(b)"
   ]
  },
  {
   "cell_type": "code",
   "execution_count": 18,
   "metadata": {},
   "outputs": [
    {
     "data": {
      "text/plain": [
       "True"
      ]
     },
     "execution_count": 18,
     "metadata": {},
     "output_type": "execute_result"
    }
   ],
   "source": [
    "id(a.f) == id(b.f)"
   ]
  },
  {
   "cell_type": "markdown",
   "metadata": {},
   "source": [
    "## Objects, values and types"
   ]
  },
  {
   "cell_type": "markdown",
   "metadata": {},
   "source": [
    "\n",
    "```sh\n",
    "1 一切皆object\n",
    "    Objects are never explicitly destroyed; however, when they become unreachable they may be garbage-collected. \n",
    "    Some objects contain references to other objects; these are called containers.:list tuple dict...\n",
    "2 object的value分为mutable和immutable\n",
    "    mutable: instance,dict,list,string,number\n",
    "    immutable: tuple type id\n",
    "    不是完全不能变，例如:tuple的reference的内容可变，\n",
    "```"
   ]
  },
  {
   "cell_type": "code",
   "execution_count": 1,
   "metadata": {},
   "outputs": [],
   "source": [
    "a = [1,2,3]\n",
    "b = {1:a}"
   ]
  },
  {
   "cell_type": "code",
   "execution_count": 2,
   "metadata": {},
   "outputs": [
    {
     "data": {
      "text/plain": [
       "{1: [1, 2, 3]}"
      ]
     },
     "execution_count": 2,
     "metadata": {},
     "output_type": "execute_result"
    }
   ],
   "source": [
    "b"
   ]
  },
  {
   "cell_type": "code",
   "execution_count": 3,
   "metadata": {},
   "outputs": [],
   "source": [
    "a.append(4)"
   ]
  },
  {
   "cell_type": "code",
   "execution_count": 4,
   "metadata": {},
   "outputs": [
    {
     "data": {
      "text/plain": [
       "{1: [1, 2, 3, 4]}"
      ]
     },
     "execution_count": 4,
     "metadata": {},
     "output_type": "execute_result"
    }
   ],
   "source": [
    "b"
   ]
  },
  {
   "cell_type": "code",
   "execution_count": 5,
   "metadata": {},
   "outputs": [],
   "source": [
    "a=(1,2,3)"
   ]
  },
  {
   "cell_type": "code",
   "execution_count": 6,
   "metadata": {},
   "outputs": [
    {
     "data": {
      "text/plain": [
       "140421351725096"
      ]
     },
     "execution_count": 6,
     "metadata": {},
     "output_type": "execute_result"
    }
   ],
   "source": [
    "id(a)"
   ]
  },
  {
   "cell_type": "code",
   "execution_count": 7,
   "metadata": {},
   "outputs": [],
   "source": [
    "b=(1,2,3)"
   ]
  },
  {
   "cell_type": "code",
   "execution_count": 8,
   "metadata": {},
   "outputs": [
    {
     "data": {
      "text/plain": [
       "140421343085336"
      ]
     },
     "execution_count": 8,
     "metadata": {},
     "output_type": "execute_result"
    }
   ],
   "source": [
    "id(b)"
   ]
  },
  {
   "cell_type": "code",
   "execution_count": 9,
   "metadata": {},
   "outputs": [],
   "source": [
    "c=a"
   ]
  },
  {
   "cell_type": "code",
   "execution_count": 10,
   "metadata": {},
   "outputs": [
    {
     "data": {
      "text/plain": [
       "140421351725096"
      ]
     },
     "execution_count": 10,
     "metadata": {},
     "output_type": "execute_result"
    }
   ],
   "source": [
    "id(c)"
   ]
  },
  {
   "cell_type": "code",
   "execution_count": 11,
   "metadata": {},
   "outputs": [
    {
     "data": {
      "text/plain": [
       "97"
      ]
     },
     "execution_count": 11,
     "metadata": {},
     "output_type": "execute_result"
    }
   ],
   "source": [
    "ord('a')"
   ]
  },
  {
   "cell_type": "code",
   "execution_count": 12,
   "metadata": {},
   "outputs": [
    {
     "data": {
      "text/plain": [
       "'a'"
      ]
     },
     "execution_count": 12,
     "metadata": {},
     "output_type": "execute_result"
    }
   ],
   "source": [
    "chr(97)"
   ]
  },
  {
   "cell_type": "code",
   "execution_count": 13,
   "metadata": {},
   "outputs": [
    {
     "data": {
      "text/plain": [
       "25105"
      ]
     },
     "execution_count": 13,
     "metadata": {},
     "output_type": "execute_result"
    }
   ],
   "source": [
    "ord('我')"
   ]
  },
  {
   "cell_type": "code",
   "execution_count": 14,
   "metadata": {},
   "outputs": [
    {
     "data": {
      "text/plain": [
       "'戎'"
      ]
     },
     "execution_count": 14,
     "metadata": {},
     "output_type": "execute_result"
    }
   ],
   "source": [
    "chr(25102)"
   ]
  },
  {
   "cell_type": "markdown",
   "metadata": {
    "heading_collapsed": true
   },
   "source": [
    "## The standard type hierarchy"
   ]
  },
  {
   "cell_type": "markdown",
   "metadata": {
    "hidden": true
   },
   "source": [
    "```sh\n",
    "1 None\n",
    "2 NotImplemented\n",
    "3 ...(Ellipsis) 省略号也是一种type\n",
    "4 numbers.Integral (int bool)\n",
    "5 numbers.Real (float)\n",
    "6 numbers.Complex (complex)\n",
    "7 Sequences a[i] a[i:j]\n",
    "    Immutable sequences: (Strings Tuple)\n",
    "    Mutable sequences(List Byte Arrays)\n",
    "8 Set types (set frozenset)\n",
    "9 Mappings (Dictionaries)\n",
    "10 Callable types\n",
    "    User-defined functions\n",
    "        def xxx(p1,*args,**kwargs):\n",
    "            pass\n",
    "    Instance methods:\n",
    "        def xxx(self,*args,**kwargs):\n",
    "            pass\n",
    "    Generator functions\n",
    "        yield xxx\n",
    "    Coroutine functions\n",
    "        async def xxx\n",
    "    Asynchronous generator functions\n",
    "        async def func():\n",
    "            ...\n",
    "            yield\n",
    "    Built-in functions: A built-in function object is a wrapper around a C function\n",
    "        sin.math()\n",
    "    Built-in methods:\n",
    "        alist.append()\n",
    "    Class Instances:\n",
    "        定义了__call()__类，可直接调用\n",
    "11 Modules\n",
    "    import blinker\n",
    "    type(blinker) 就是module, 要求目录下要有__init__.py\n",
    "12 Custom classes\n",
    "    class Test:\n",
    "        pass\n",
    "13 I/O objects (also known as file objects)\n",
    "    fd = open('xx.txt')\n",
    "14 Internal types\n",
    "    这个比较少见了.\n",
    "    Code objects(区别于function objects)\n",
    "    Frame objects: represent execution frames.\n",
    "15 Traceback objects\n",
    "16 Slice objects\n",
    "17 static method objects\n",
    "     A static method object is a wrapper around any other object, usually a user-defined method object. When a static method object is retrieved from a class or a class instance, the object actually returned is the wrapped object, which is not subject to any further transformation. Static method objects are not themselves callable, although the objects they wrap usually are.\n",
    "\n",
    "```"
   ]
  },
  {
   "cell_type": "markdown",
   "metadata": {
    "hidden": true
   },
   "source": [
    "关于staticmethod的进一步说明:\n",
    "https://stackoverflow.com/questions/41921255/staticmethod-object-is-not-callable-switch-case"
   ]
  },
  {
   "cell_type": "markdown",
   "metadata": {
    "hidden": true
   },
   "source": [
    "\n",
    "这种语法也可以，定义参数列表，比较少见.\n"
   ]
  },
  {
   "cell_type": "code",
   "execution_count": 1,
   "metadata": {
    "hidden": true
   },
   "outputs": [],
   "source": [
    "def f(a:1):\n",
    "    print(a)"
   ]
  },
  {
   "cell_type": "code",
   "execution_count": 2,
   "metadata": {
    "hidden": true
   },
   "outputs": [
    {
     "name": "stdout",
     "output_type": "stream",
     "text": [
      "after definition\n"
     ]
    }
   ],
   "source": [
    "def f(a:1) -> print('after definition'):\n",
    "    print(a)"
   ]
  },
  {
   "cell_type": "code",
   "execution_count": 3,
   "metadata": {
    "hidden": true
   },
   "outputs": [
    {
     "name": "stdout",
     "output_type": "stream",
     "text": [
      "1\n"
     ]
    }
   ],
   "source": [
    "f(1)"
   ]
  },
  {
   "cell_type": "markdown",
   "metadata": {},
   "source": [
    "## Special method names"
   ]
  },
  {
   "cell_type": "markdown",
   "metadata": {
    "heading_collapsed": true
   },
   "source": [
    "### Basic customization"
   ]
  },
  {
   "cell_type": "markdown",
   "metadata": {
    "heading_collapsed": true,
    "hidden": true
   },
   "source": [
    "####  \\_\\_new\\_\\_ 和\\_\\_init\\_\\_"
   ]
  },
  {
   "cell_type": "markdown",
   "metadata": {
    "hidden": true
   },
   "source": [
    "https://www.cnblogs.com/slhs/p/7717045.html"
   ]
  },
  {
   "cell_type": "markdown",
   "metadata": {
    "hidden": true
   },
   "source": [
    "```sh\n",
    "__new__方法的调用是发生在__init__之前的, 是类级别的方法 ，用来创建实例\n",
    "__init__是创建好后用来初始化实例,添加一些属性等等，是实例里的方法.\n",
    "__new__() to create it, and __init__() to customize it\n",
    "```"
   ]
  },
  {
   "cell_type": "code",
   "execution_count": 271,
   "metadata": {
    "hidden": true
   },
   "outputs": [],
   "source": [
    "class A:\n",
    "    def __new__(cls,a):\n",
    "        print('1st __new__')\n",
    "        return super().__new__(cls)\n",
    "    def __init__(self,a):\n",
    "        print('then call __init__')\n",
    "        self.a = a\n",
    "    def get_a(self):\n",
    "        return self.a"
   ]
  },
  {
   "cell_type": "code",
   "execution_count": 272,
   "metadata": {
    "hidden": true
   },
   "outputs": [
    {
     "name": "stdout",
     "output_type": "stream",
     "text": [
      "1st __new__\n",
      "then call __init__\n"
     ]
    }
   ],
   "source": [
    "a1 = A(2)"
   ]
  },
  {
   "cell_type": "markdown",
   "metadata": {
    "hidden": true
   },
   "source": [
    "```\n",
    "__new__里定义的参数会传递给__init的参数\n",
    "```"
   ]
  },
  {
   "cell_type": "code",
   "execution_count": 273,
   "metadata": {
    "hidden": true
   },
   "outputs": [
    {
     "data": {
      "text/plain": [
       "2"
      ]
     },
     "execution_count": 273,
     "metadata": {},
     "output_type": "execute_result"
    }
   ],
   "source": [
    "a1.get_a()"
   ]
  },
  {
   "cell_type": "markdown",
   "metadata": {
    "heading_collapsed": true,
    "hidden": true
   },
   "source": [
    "#### \\_\\_del\\_\\_"
   ]
  },
  {
   "cell_type": "code",
   "execution_count": 126,
   "metadata": {
    "hidden": true
   },
   "outputs": [
    {
     "ename": "SyntaxError",
     "evalue": "can't delete function call (<ipython-input-126-0bdd8944ecc1>, line 3)",
     "output_type": "error",
     "traceback": [
      "\u001b[0;36m  File \u001b[0;32m\"<ipython-input-126-0bdd8944ecc1>\"\u001b[0;36m, line \u001b[0;32m3\u001b[0m\n\u001b[0;31m    del A()\u001b[0m\n\u001b[0m       ^\u001b[0m\n\u001b[0;31mSyntaxError\u001b[0m\u001b[0;31m:\u001b[0m can't delete function call\n"
     ]
    }
   ],
   "source": [
    "class A:\n",
    "    pass\n",
    "del A()"
   ]
  },
  {
   "cell_type": "code",
   "execution_count": 174,
   "metadata": {
    "hidden": true
   },
   "outputs": [
    {
     "name": "stdout",
     "output_type": "stream",
     "text": [
      "call __del__\n",
      "123\n"
     ]
    }
   ],
   "source": [
    "class A:\n",
    "    def __del__(cls):\n",
    "        print('call __del__\\n123')\n",
    "a = A()\n",
    "del a"
   ]
  },
  {
   "cell_type": "markdown",
   "metadata": {
    "heading_collapsed": true,
    "hidden": true
   },
   "source": [
    "#### \\_\\_str\\_\\_  和\\_\\_repr\\_\\_"
   ]
  },
  {
   "cell_type": "code",
   "execution_count": 472,
   "metadata": {
    "hidden": true
   },
   "outputs": [],
   "source": [
    "class A:\n",
    "    def __new__(cls,a):\n",
    "        print('1st __new__')\n",
    "        return super().__new__(cls)\n",
    "    def __init__(self,a):\n",
    "        print('then call __init__')\n",
    "        self.a = a\n",
    "    def get_a(self):\n",
    "        return self.a\n",
    "    def __str__(self):\n",
    "        return ('this is str blalala..')\n",
    "    def __repr__(self):\n",
    "        return ('class A')"
   ]
  },
  {
   "cell_type": "markdown",
   "metadata": {
    "hidden": true
   },
   "source": [
    "实际中，repr定义的更多用于调试"
   ]
  },
  {
   "cell_type": "code",
   "execution_count": 473,
   "metadata": {
    "hidden": true
   },
   "outputs": [
    {
     "name": "stdout",
     "output_type": "stream",
     "text": [
      "1st __new__\n",
      "then call __init__\n"
     ]
    },
    {
     "data": {
      "text/plain": [
       "'class A'"
      ]
     },
     "execution_count": 473,
     "metadata": {},
     "output_type": "execute_result"
    }
   ],
   "source": [
    "repr(A(1))"
   ]
  },
  {
   "cell_type": "code",
   "execution_count": 474,
   "metadata": {
    "hidden": true
   },
   "outputs": [
    {
     "name": "stdout",
     "output_type": "stream",
     "text": [
      "1st __new__\n",
      "then call __init__\n"
     ]
    },
    {
     "data": {
      "text/plain": [
       "'this is str blalala..'"
      ]
     },
     "execution_count": 474,
     "metadata": {},
     "output_type": "execute_result"
    }
   ],
   "source": [
    "str(A(1))"
   ]
  },
  {
   "cell_type": "markdown",
   "metadata": {
    "heading_collapsed": true,
    "hidden": true
   },
   "source": [
    "#### rich comparison methods"
   ]
  },
  {
   "cell_type": "markdown",
   "metadata": {
    "hidden": true
   },
   "source": [
    "```sh\n",
    "object.__lt__(self, other)\n",
    "object.__le__(self, other)\n",
    "object.__eq__(self, other)\n",
    "object.__ne__(self, other)\n",
    "object.__gt__(self, other)\n",
    "object.__ge__(self, other)\n",
    "```"
   ]
  },
  {
   "cell_type": "markdown",
   "metadata": {
    "heading_collapsed": true,
    "hidden": true
   },
   "source": [
    "#### \\_\\_hash\\_\\_ and \\_\\_eq\\_\\_"
   ]
  },
  {
   "cell_type": "markdown",
   "metadata": {
    "hidden": true
   },
   "source": [
    "https://blog.csdn.net/lnotime/article/details/81194962"
   ]
  },
  {
   "cell_type": "markdown",
   "metadata": {
    "hidden": true
   },
   "source": [
    "```sh\n",
    "0 实现了__hash__的object可用在set中 和用作dict中的key\n",
    "1 ___hash__和__eq__要同时出现，因为eq函数比较的就是各自instance的__hash__值\n",
    "2 mutable class(like list or dict), 不要实现__hash__,因为hash要求对象的key不变化\n",
    "3 默认的自定义类已经实现了__hash__and__eq__ hash(a)== hash(b) 和a==b的效果一样,可见==比较的就是hash值\n",
    "4 不要随便重写__eq__, 重写了__eq__()方法的类会隐式的把__hash__赋为None\n",
    "5 多进程环境下，无法保证str, bytes and datetime等objects的一致\n",
    "```"
   ]
  },
  {
   "cell_type": "code",
   "execution_count": 477,
   "metadata": {
    "hidden": true
   },
   "outputs": [],
   "source": [
    "a=(1,2)\n",
    "b=(2,1)\n",
    "a1=(1,2)\n",
    "d=(1,3)\n",
    "e = [1,2]"
   ]
  },
  {
   "cell_type": "code",
   "execution_count": 478,
   "metadata": {
    "hidden": true
   },
   "outputs": [
    {
     "ename": "TypeError",
     "evalue": "'NoneType' object is not callable",
     "output_type": "error",
     "traceback": [
      "\u001b[0;31m---------------------------------------------------------------------------\u001b[0m",
      "\u001b[0;31mTypeError\u001b[0m                                 Traceback (most recent call last)",
      "\u001b[0;32m<ipython-input-478-4341a29b3e98>\u001b[0m in \u001b[0;36m<module>\u001b[0;34m\u001b[0m\n\u001b[1;32m      1\u001b[0m \u001b[0;31m# list return NoneType\u001b[0m\u001b[0;34m\u001b[0m\u001b[0;34m\u001b[0m\u001b[0m\n\u001b[0;32m----> 2\u001b[0;31m \u001b[0me\u001b[0m\u001b[0;34m.\u001b[0m\u001b[0m__hash__\u001b[0m\u001b[0;34m(\u001b[0m\u001b[0;34m)\u001b[0m\u001b[0;34m\u001b[0m\u001b[0m\n\u001b[0m",
      "\u001b[0;31mTypeError\u001b[0m: 'NoneType' object is not callable"
     ]
    }
   ],
   "source": [
    "# list return NoneType\n",
    "e.__hash__()"
   ]
  },
  {
   "cell_type": "code",
   "execution_count": 479,
   "metadata": {
    "hidden": true
   },
   "outputs": [],
   "source": [
    "# set有__hash__方法，可用作dictionary的key\n",
    "d = {a:1 ,b:2,c:3}"
   ]
  },
  {
   "cell_type": "code",
   "execution_count": 481,
   "metadata": {
    "hidden": true
   },
   "outputs": [
    {
     "data": {
      "text/plain": [
       "1"
      ]
     },
     "execution_count": 481,
     "metadata": {},
     "output_type": "execute_result"
    }
   ],
   "source": [
    "d[a]"
   ]
  },
  {
   "cell_type": "code",
   "execution_count": 482,
   "metadata": {
    "hidden": true
   },
   "outputs": [
    {
     "data": {
      "text/plain": [
       "False"
      ]
     },
     "execution_count": 482,
     "metadata": {},
     "output_type": "execute_result"
    }
   ],
   "source": [
    "# set的元素顺序不一致，hash的值也是不一样的\n",
    "a.__hash__() == b.__hash__()"
   ]
  },
  {
   "cell_type": "code",
   "execution_count": 483,
   "metadata": {
    "hidden": true
   },
   "outputs": [
    {
     "data": {
      "text/plain": [
       "True"
      ]
     },
     "execution_count": 483,
     "metadata": {},
     "output_type": "execute_result"
    }
   ],
   "source": [
    "a.__hash__() == a1.__hash__()"
   ]
  },
  {
   "cell_type": "code",
   "execution_count": 484,
   "metadata": {
    "hidden": true
   },
   "outputs": [
    {
     "data": {
      "text/plain": [
       "False"
      ]
     },
     "execution_count": 484,
     "metadata": {},
     "output_type": "execute_result"
    }
   ],
   "source": [
    "a.__eq__(b)"
   ]
  },
  {
   "cell_type": "code",
   "execution_count": 485,
   "metadata": {
    "hidden": true
   },
   "outputs": [
    {
     "data": {
      "text/plain": [
       "True"
      ]
     },
     "execution_count": 485,
     "metadata": {},
     "output_type": "execute_result"
    }
   ],
   "source": [
    "a.__eq__(a1)"
   ]
  },
  {
   "cell_type": "markdown",
   "metadata": {
    "heading_collapsed": true,
    "hidden": true
   },
   "source": [
    "#### \\_\\_class\\_\\_"
   ]
  },
  {
   "cell_type": "markdown",
   "metadata": {
    "hidden": true
   },
   "source": [
    "实例调用\\_\\_class\\_\\_属性时会指向该实例对应的类，然后可以再去调用其它类属性\n"
   ]
  },
  {
   "cell_type": "code",
   "execution_count": 327,
   "metadata": {
    "hidden": true
   },
   "outputs": [],
   "source": [
    "a = [1,2,3,4]"
   ]
  },
  {
   "cell_type": "markdown",
   "metadata": {
    "hidden": true
   },
   "source": [
    "```py\n",
    "def __deepcopy__(self, memo):\n",
    "    r = self.__class__()\n",
    "    for k, v in self.items():\n",
    "        r[copy.deepcopy(k)] = copy.deepcopy(v)\n",
    "    r.core = self.core\n",
    "    return r\n",
    "```"
   ]
  },
  {
   "cell_type": "markdown",
   "metadata": {
    "heading_collapsed": true
   },
   "source": [
    "### Customizing attribute access"
   ]
  },
  {
   "cell_type": "markdown",
   "metadata": {
    "heading_collapsed": true,
    "hidden": true
   },
   "source": [
    "#### \\_\\_getattr\\_\\_ and \\_\\_getattribute\\_\\_"
   ]
  },
  {
   "cell_type": "code",
   "execution_count": 328,
   "metadata": {
    "hidden": true
   },
   "outputs": [],
   "source": [
    "a = {\"1\":1, \"2\":2 ,\"3\":3}"
   ]
  },
  {
   "cell_type": "markdown",
   "metadata": {
    "hidden": true
   },
   "source": [
    "正常的字典，就这么用"
   ]
  },
  {
   "cell_type": "code",
   "execution_count": 329,
   "metadata": {
    "hidden": true
   },
   "outputs": [
    {
     "data": {
      "text/plain": [
       "1"
      ]
     },
     "execution_count": 329,
     "metadata": {},
     "output_type": "execute_result"
    }
   ],
   "source": [
    "a[\"1\"]"
   ]
  },
  {
   "cell_type": "markdown",
   "metadata": {
    "hidden": true
   },
   "source": [
    "能不能再方便点？人总是偷懒的..比如 a.1 = 1?\n",
    "\n",
    "a.1 1是a的属性，这就是__getattr__函数做的事情"
   ]
  },
  {
   "cell_type": "code",
   "execution_count": 330,
   "metadata": {
    "hidden": true
   },
   "outputs": [],
   "source": [
    "class AttributeDict(dict):\n",
    "    def __getattr__(self,name):\n",
    "        value = self[name]\n",
    "        if isinstance(value,dict):\n",
    "            value = AttributeDict(value)\n",
    "        return value"
   ]
  },
  {
   "cell_type": "code",
   "execution_count": 331,
   "metadata": {
    "hidden": true
   },
   "outputs": [
    {
     "name": "stdout",
     "output_type": "stream",
     "text": [
      "Bob\n",
      "1986\n"
     ]
    }
   ],
   "source": [
    "a = AttributeDict({\"name\":\"Bob\", \"year\":1986})\n",
    "print(a.name)\n",
    "print(a.year)"
   ]
  },
  {
   "cell_type": "markdown",
   "metadata": {
    "hidden": true
   },
   "source": [
    "```sh\n",
    "1 属性的默认访问顺序--->实例属性(instance.__dict__) -->类属性(class.__dict__) -->父类属性 -->__getattr__()-->AttributeError!\n",
    "2 __getattr__和__getattribute__的区别?\n",
    "    前者是在实例属性和类属性都找不到某个属性时，才会调用;\n",
    "    后者是无条件调用，所有属性查找都先通过它. 如果重写了，最好用 object.__getattribute__(self, name)，并且覆盖__getattr\n",
    "3 __setattr__其实就是在self.__dict__里 添加内容,self.__dict__['name']=value,即最终调用了self.__dict__的__setitem__\n",
    "4 __getitem__是给予 对象类似dict的 obj['name']的访问能力.\n",
    "\n",
    "```"
   ]
  },
  {
   "cell_type": "markdown",
   "metadata": {
    "heading_collapsed": true,
    "hidden": true
   },
   "source": [
    "#### \\_\\_setitem\\_\\_ and \\_\\_getitem\\_\\_"
   ]
  },
  {
   "cell_type": "code",
   "execution_count": 632,
   "metadata": {
    "hidden": true
   },
   "outputs": [],
   "source": [
    "class AttributeDict(dict):\n",
    "    def __setitem__(self,name,value):\n",
    "        print('__setitem__,')\n",
    "        return super().__setitem__(name,value)\n",
    "    \n",
    "    def __getitem__(self,name):\n",
    "        print('__getitem__, find in dict data-structure')\n",
    "        return super().__getitem__(name)\n",
    "    \n",
    "    def __setattr__(self,name,value):\n",
    "        print('__setattr__ , put name:value in instance.__dict__')\n",
    "        return super().__setattr__(name,value)\n",
    "        \n",
    "    def __getattr__(self,name):\n",
    "        print('__getattr__ if finally not find anything, come for me')\n",
    "        try:\n",
    "            # goto self.__getitem__\n",
    "            value = self[name]\n",
    "        except KeyError:\n",
    "            print('None exsited key')\n",
    "            return None\n",
    "        if isinstance(value,dict):\n",
    "            value = AttributeDict(value)\n",
    "        return value\n",
    "    def __getattribute__(self,name):\n",
    "        print('__getarrtribute__ I handle all attribute at  very first')\n",
    "        #通过object显示调用__getattr__\n",
    "        # 如果不显示使用，除非属性找不到，否则不再调用__getattr__\n",
    "        return object.__getattribute__(self,name)"
   ]
  },
  {
   "cell_type": "code",
   "execution_count": 633,
   "metadata": {
    "hidden": true
   },
   "outputs": [],
   "source": [
    "b={\"1\":1,\"2\":2}"
   ]
  },
  {
   "cell_type": "code",
   "execution_count": 634,
   "metadata": {
    "hidden": true
   },
   "outputs": [
    {
     "ename": "SyntaxError",
     "evalue": "invalid syntax (<ipython-input-634-f14a8f337f4a>, line 1)",
     "output_type": "error",
     "traceback": [
      "\u001b[0;36m  File \u001b[0;32m\"<ipython-input-634-f14a8f337f4a>\"\u001b[0;36m, line \u001b[0;32m1\u001b[0m\n\u001b[0;31m    b.1\u001b[0m\n\u001b[0m      ^\u001b[0m\n\u001b[0;31mSyntaxError\u001b[0m\u001b[0;31m:\u001b[0m invalid syntax\n"
     ]
    }
   ],
   "source": [
    "b.1"
   ]
  },
  {
   "cell_type": "markdown",
   "metadata": {
    "hidden": true
   },
   "source": [
    "AttributeDict的key-val，通过attribute能访问到, 是因为上面`__getattr__`的实现里间接调用了`__getitem__`;"
   ]
  },
  {
   "cell_type": "code",
   "execution_count": 635,
   "metadata": {
    "hidden": true
   },
   "outputs": [
    {
     "name": "stdout",
     "output_type": "stream",
     "text": [
      "__getarrtribute__ I handle all attribute at  very first\n",
      "__getattr__ if finally not find anything, come for me\n",
      "__getitem__, find in dict data-structure\n",
      "Bob\n"
     ]
    }
   ],
   "source": [
    "a = AttributeDict({\"name\":\"Bob\", \"year\":1986})\n",
    "print(a.name)"
   ]
  },
  {
   "cell_type": "markdown",
   "metadata": {
    "hidden": true
   },
   "source": [
    "不存在的属性，dict里也没有该数据，最终也不会有"
   ]
  },
  {
   "cell_type": "code",
   "execution_count": 636,
   "metadata": {
    "hidden": true
   },
   "outputs": [
    {
     "name": "stdout",
     "output_type": "stream",
     "text": [
      "__getarrtribute__ I handle all attribute at  very first\n",
      "__getattr__ if finally not find anything, come for me\n",
      "__getitem__, find in dict data-structure\n",
      "None exsited key\n"
     ]
    }
   ],
   "source": [
    "a.what"
   ]
  },
  {
   "cell_type": "markdown",
   "metadata": {
    "hidden": true
   },
   "source": [
    "增加what属性到 `intance.__dict__`中,调用了`__setattr__`"
   ]
  },
  {
   "cell_type": "code",
   "execution_count": 637,
   "metadata": {
    "hidden": true
   },
   "outputs": [
    {
     "name": "stdout",
     "output_type": "stream",
     "text": [
      "__setattr__ , put name:value in instance.__dict__\n"
     ]
    }
   ],
   "source": [
    "a.what = 666"
   ]
  },
  {
   "cell_type": "code",
   "execution_count": 638,
   "metadata": {
    "hidden": true
   },
   "outputs": [
    {
     "name": "stdout",
     "output_type": "stream",
     "text": [
      "__getarrtribute__ I handle all attribute at  very first\n"
     ]
    },
    {
     "data": {
      "text/plain": [
       "{'what': 666}"
      ]
     },
     "execution_count": 638,
     "metadata": {},
     "output_type": "execute_result"
    }
   ],
   "source": [
    "a.__dict__"
   ]
  },
  {
   "cell_type": "markdown",
   "metadata": {
    "hidden": true
   },
   "source": [
    "a['what']仅查dict的数据，不会查attribute,所以找不到"
   ]
  },
  {
   "cell_type": "code",
   "execution_count": 639,
   "metadata": {
    "hidden": true
   },
   "outputs": [
    {
     "name": "stdout",
     "output_type": "stream",
     "text": [
      "__getarrtribute__ I handle all attribute at  very first\n",
      "__getarrtribute__ I handle all attribute at  very first\n",
      "__getarrtribute__ I handle all attribute at  very first\n",
      "__getarrtribute__ I handle all attribute at  very first\n",
      "__getarrtribute__ I handle all attribute at  very first\n",
      "__getarrtribute__ I handle all attribute at  very first\n",
      "__getitem__, find in dict data-structure\n"
     ]
    },
    {
     "ename": "KeyError",
     "evalue": "'what'",
     "output_type": "error",
     "traceback": [
      "\u001b[0;31m---------------------------------------------------------------------------\u001b[0m",
      "\u001b[0;31mKeyError\u001b[0m                                  Traceback (most recent call last)",
      "\u001b[0;32m<ipython-input-639-4aceedcebab4>\u001b[0m in \u001b[0;36m<module>\u001b[0;34m\u001b[0m\n\u001b[0;32m----> 1\u001b[0;31m \u001b[0ma\u001b[0m\u001b[0;34m[\u001b[0m\u001b[0;34m'what'\u001b[0m\u001b[0;34m]\u001b[0m\u001b[0;34m\u001b[0m\u001b[0m\n\u001b[0m",
      "\u001b[0;32m<ipython-input-632-361f168d5d96>\u001b[0m in \u001b[0;36m__getitem__\u001b[0;34m(self, name)\u001b[0m\n\u001b[1;32m      6\u001b[0m     \u001b[0;32mdef\u001b[0m \u001b[0m__getitem__\u001b[0m\u001b[0;34m(\u001b[0m\u001b[0mself\u001b[0m\u001b[0;34m,\u001b[0m\u001b[0mname\u001b[0m\u001b[0;34m)\u001b[0m\u001b[0;34m:\u001b[0m\u001b[0;34m\u001b[0m\u001b[0m\n\u001b[1;32m      7\u001b[0m         \u001b[0mprint\u001b[0m\u001b[0;34m(\u001b[0m\u001b[0;34m'__getitem__, find in dict data-structure'\u001b[0m\u001b[0;34m)\u001b[0m\u001b[0;34m\u001b[0m\u001b[0m\n\u001b[0;32m----> 8\u001b[0;31m         \u001b[0;32mreturn\u001b[0m \u001b[0msuper\u001b[0m\u001b[0;34m(\u001b[0m\u001b[0;34m)\u001b[0m\u001b[0;34m.\u001b[0m\u001b[0m__getitem__\u001b[0m\u001b[0;34m(\u001b[0m\u001b[0mname\u001b[0m\u001b[0;34m)\u001b[0m\u001b[0;34m\u001b[0m\u001b[0m\n\u001b[0m\u001b[1;32m      9\u001b[0m \u001b[0;34m\u001b[0m\u001b[0m\n\u001b[1;32m     10\u001b[0m     \u001b[0;32mdef\u001b[0m \u001b[0m__setattr__\u001b[0m\u001b[0;34m(\u001b[0m\u001b[0mself\u001b[0m\u001b[0;34m,\u001b[0m\u001b[0mname\u001b[0m\u001b[0;34m,\u001b[0m\u001b[0mvalue\u001b[0m\u001b[0;34m)\u001b[0m\u001b[0;34m:\u001b[0m\u001b[0;34m\u001b[0m\u001b[0m\n",
      "\u001b[0;31mKeyError\u001b[0m: 'what'"
     ]
    }
   ],
   "source": [
    "a['what']"
   ]
  },
  {
   "cell_type": "markdown",
   "metadata": {
    "hidden": true
   },
   "source": [
    "'what':123 放在dict里:"
   ]
  },
  {
   "cell_type": "code",
   "execution_count": 640,
   "metadata": {
    "hidden": true
   },
   "outputs": [
    {
     "name": "stdout",
     "output_type": "stream",
     "text": [
      "__getarrtribute__ I handle all attribute at  very first\n",
      "__getarrtribute__ I handle all attribute at  very first\n",
      "__getarrtribute__ I handle all attribute at  very first\n",
      "__getarrtribute__ I handle all attribute at  very first\n",
      "__getarrtribute__ I handle all attribute at  very first\n",
      "__getarrtribute__ I handle all attribute at  very first\n",
      "__setitem__,\n"
     ]
    }
   ],
   "source": [
    "a['what'] = 123"
   ]
  },
  {
   "cell_type": "markdown",
   "metadata": {
    "hidden": true
   },
   "source": [
    "正常字典访问:"
   ]
  },
  {
   "cell_type": "code",
   "execution_count": 641,
   "metadata": {
    "hidden": true
   },
   "outputs": [
    {
     "name": "stdout",
     "output_type": "stream",
     "text": [
      "__getarrtribute__ I handle all attribute at  very first\n",
      "__getarrtribute__ I handle all attribute at  very first\n",
      "__getarrtribute__ I handle all attribute at  very first\n",
      "__getarrtribute__ I handle all attribute at  very first\n",
      "__getarrtribute__ I handle all attribute at  very first\n",
      "__getarrtribute__ I handle all attribute at  very first\n",
      "__getitem__, find in dict data-structure\n"
     ]
    },
    {
     "data": {
      "text/plain": [
       "123"
      ]
     },
     "execution_count": 641,
     "metadata": {},
     "output_type": "execute_result"
    }
   ],
   "source": [
    "a['what']"
   ]
  },
  {
   "cell_type": "markdown",
   "metadata": {
    "hidden": true
   },
   "source": [
    "属性访问,访问到`a.__dict__`中"
   ]
  },
  {
   "cell_type": "code",
   "execution_count": 643,
   "metadata": {
    "hidden": true
   },
   "outputs": [
    {
     "name": "stdout",
     "output_type": "stream",
     "text": [
      "__getarrtribute__ I handle all attribute at  very first\n"
     ]
    },
    {
     "data": {
      "text/plain": [
       "{'what': 666}"
      ]
     },
     "execution_count": 643,
     "metadata": {},
     "output_type": "execute_result"
    }
   ],
   "source": [
    "a.__dict__"
   ]
  },
  {
   "cell_type": "code",
   "execution_count": 642,
   "metadata": {
    "hidden": true
   },
   "outputs": [
    {
     "name": "stdout",
     "output_type": "stream",
     "text": [
      "__getarrtribute__ I handle all attribute at  very first\n"
     ]
    },
    {
     "data": {
      "text/plain": [
       "666"
      ]
     },
     "execution_count": 642,
     "metadata": {},
     "output_type": "execute_result"
    }
   ],
   "source": [
    "a.what"
   ]
  },
  {
   "cell_type": "code",
   "execution_count": 646,
   "metadata": {
    "hidden": true
   },
   "outputs": [
    {
     "name": "stdout",
     "output_type": "stream",
     "text": [
      "__getarrtribute__ I handle all attribute at  very first\n",
      "__getarrtribute__ I handle all attribute at  very first\n",
      "__getarrtribute__ I handle all attribute at  very first\n",
      "__getarrtribute__ I handle all attribute at  very first\n",
      "__getarrtribute__ I handle all attribute at  very first\n",
      "__getarrtribute__ I handle all attribute at  very first\n",
      "__setitem__,\n"
     ]
    }
   ],
   "source": [
    "a['what_again'] = 999"
   ]
  },
  {
   "cell_type": "markdown",
   "metadata": {
    "hidden": true
   },
   "source": [
    "属性访问不到，但最终通过`__getitem__`找到了what_again的值"
   ]
  },
  {
   "cell_type": "code",
   "execution_count": 647,
   "metadata": {
    "hidden": true
   },
   "outputs": [
    {
     "name": "stdout",
     "output_type": "stream",
     "text": [
      "__getarrtribute__ I handle all attribute at  very first\n",
      "__getattr__ if finally not find anything, come for me\n",
      "__getitem__, find in dict data-structure\n"
     ]
    },
    {
     "data": {
      "text/plain": [
       "999"
      ]
     },
     "execution_count": 647,
     "metadata": {},
     "output_type": "execute_result"
    }
   ],
   "source": [
    "a.what_again"
   ]
  },
  {
   "cell_type": "code",
   "execution_count": 648,
   "metadata": {
    "hidden": true
   },
   "outputs": [
    {
     "name": "stdout",
     "output_type": "stream",
     "text": [
      "__getarrtribute__ I handle all attribute at  very first\n"
     ]
    },
    {
     "data": {
      "text/plain": [
       "{'what': 666}"
      ]
     },
     "execution_count": 648,
     "metadata": {},
     "output_type": "execute_result"
    }
   ],
   "source": [
    "a.__dict__"
   ]
  },
  {
   "cell_type": "markdown",
   "metadata": {
    "hidden": true
   },
   "source": [
    "dict里的值，并没有属性what:666"
   ]
  },
  {
   "cell_type": "code",
   "execution_count": 650,
   "metadata": {
    "hidden": true
   },
   "outputs": [
    {
     "name": "stdout",
     "output_type": "stream",
     "text": [
      "__getarrtribute__ I handle all attribute at  very first\n"
     ]
    },
    {
     "data": {
      "text/plain": [
       "dict_items([('name', 'Bob'), ('year', 1986), ('what', 123), ('what_again', 999)])"
      ]
     },
     "execution_count": 650,
     "metadata": {},
     "output_type": "execute_result"
    }
   ],
   "source": [
    "a.items() "
   ]
  },
  {
   "cell_type": "markdown",
   "metadata": {
    "hidden": true
   },
   "source": [
    "dict 的str和repr默认就是item():"
   ]
  },
  {
   "cell_type": "code",
   "execution_count": 653,
   "metadata": {
    "hidden": true
   },
   "outputs": [
    {
     "data": {
      "text/plain": [
       "\"{'name': 'Bob', 'year': 1986, 'what': 123, 'what_again': 999}\""
      ]
     },
     "execution_count": 653,
     "metadata": {},
     "output_type": "execute_result"
    }
   ],
   "source": [
    "str(a)"
   ]
  },
  {
   "cell_type": "code",
   "execution_count": 654,
   "metadata": {
    "hidden": true
   },
   "outputs": [
    {
     "data": {
      "text/plain": [
       "\"{'name': 'Bob', 'year': 1986, 'what': 123, 'what_again': 999}\""
      ]
     },
     "execution_count": 654,
     "metadata": {},
     "output_type": "execute_result"
    }
   ],
   "source": [
    "repr(a)"
   ]
  },
  {
   "cell_type": "markdown",
   "metadata": {
    "heading_collapsed": true,
    "hidden": true
   },
   "source": [
    "#### Implementing Descriptors \\_\\_get\\_\\_ \\_\\_set\\_\\_"
   ]
  },
  {
   "cell_type": "markdown",
   "metadata": {
    "hidden": true
   },
   "source": [
    "\n",
    "https://www.cnblogs.com/astropeak/p/9032271.html"
   ]
  },
  {
   "cell_type": "markdown",
   "metadata": {
    "hidden": true
   },
   "source": [
    "```sh\n",
    "\n",
    "描述符的作用：将属性访问转变为函数调用，并由这个函数来控制这个属性的值（也即函数的返回值），以及在返回值前做定制化的操作。\n",
    "\n",
    "描述符可成为类的一个属性，控制类实例对象访问这个属性时如何返回值及做哪些额外操作\n",
    "\n",
    "实现了下面任一函数的类，即遵循了描述符协议，是1个描述符类，其instance就是1个描述符，当这个描述符出现在\n",
    "某个class的__dict__中时，这个描述符变成了class or instance的属性，可以直接赋值或者访问.\n",
    "\n",
    "\n",
    "object.__get__(self, instance, owner)\n",
    "object.__set__(self, instance, value)\n",
    "object.__delete__(self, instance)\n",
    "object.__set_name__(self, owner, name)\n",
    "\n",
    "```\n",
    "\n"
   ]
  },
  {
   "cell_type": "markdown",
   "metadata": {},
   "source": [
    "### Serialization \\_\\_getstate\\_\\_ \\_\\_setstate_\\_"
   ]
  },
  {
   "cell_type": "markdown",
   "metadata": {},
   "source": [
    "关于python object的序列化的，如pickle\n",
    "\n",
    " pickle 类的的实例时，Python 将只 pickle 当它调用该实例的 _getstate_() 方法时返回给它的值。类似的，在 unpickle 时，Python 将提供经过 unpickle 的值作为参数传递给实例的 _setstate_() 方法。在 _setstate_() 方法内，可以根据经过 pickle 的名称和位置信息来重建文件对象\n",
    " \n",
    " 通过\\_\\_getstate\\_\\_ \\_\\_setstate\\_\\_来控制序列化对象的行为，不是所有对象都可以序列化，比如file descriptor."
   ]
  },
  {
   "cell_type": "code",
   "execution_count": 144,
   "metadata": {},
   "outputs": [],
   "source": [
    "# illustrate __setstate__ and __getstate__  methods\n",
    "# used in pickling.\n",
    "\n",
    "class TextReader:\n",
    "    \"Print and number lines in a text file.\"\n",
    "    def __init__(self,file):\n",
    "        self.file = file\n",
    "        self.fh = open(file,'r')\n",
    "        self.lineno = 0\n",
    "\n",
    "    def readline(self):\n",
    "        self.lineno = self.lineno + 1\n",
    "        line = self.fh.readline()\n",
    "        if not line:\n",
    "            return None\n",
    "        return \"%d: %s\" % (self.lineno,line[:-1])\n",
    "\n",
    "    # return data representation for pickled object\n",
    "    def __getstate__(self):\n",
    "        odict = self.__dict__.copy()    # get attribute dictionary\n",
    "        del odict['fh']          # remove filehandle entry\n",
    "        return odict\n",
    "\n",
    "    # restore object state from data representation generated \n",
    "    # by __getstate__\n",
    "    def __setstate__(self,dict):\n",
    "        fh = open(dict['file'])  # reopen file\n",
    "        count = dict['lineno']   # read from file...\n",
    "        while count:             # until line count is restored\n",
    "            fh.readline()\n",
    "            count = count - 1\n",
    "        dict['fh'] = fh          # create filehandle entry\n",
    "        self.__dict__ = dict     # make dict our attribute dictionary"
   ]
  },
  {
   "cell_type": "markdown",
   "metadata": {},
   "source": [
    "### Copy \\_\\_deepcopy\\_\\_ 和\\_\\_copy\\_\\_"
   ]
  },
  {
   "cell_type": "markdown",
   "metadata": {},
   "source": [
    "这个和python的内存模型有关.和c++里的有点类似的\n",
    "\n",
    "普通copy时,仅是引用; deepcopy才是真正的copy.有个copy模块\n",
    "\n",
    "4种程度:\n",
    "```sh\n",
    "b=a, 变量id完全一致,重命名\n",
    "c=a[:] 切片\n",
    "d=copy.copy(a)\n",
    "e=copy.deepcopy(a)\n",
    "\n",
    "```"
   ]
  },
  {
   "cell_type": "code",
   "execution_count": 145,
   "metadata": {},
   "outputs": [],
   "source": [
    "import copy"
   ]
  },
  {
   "cell_type": "code",
   "execution_count": 146,
   "metadata": {},
   "outputs": [],
   "source": [
    "a =[1,2,3,4,[1,2,3]]\n",
    "b= a\n",
    "c = a[:]\n",
    "d = copy.copy(a)\n",
    "e = copy.deepcopy(a)"
   ]
  },
  {
   "cell_type": "code",
   "execution_count": 147,
   "metadata": {},
   "outputs": [
    {
     "data": {
      "text/plain": [
       "140421341777224"
      ]
     },
     "execution_count": 147,
     "metadata": {},
     "output_type": "execute_result"
    }
   ],
   "source": [
    "id(a)"
   ]
  },
  {
   "cell_type": "code",
   "execution_count": 148,
   "metadata": {},
   "outputs": [
    {
     "data": {
      "text/plain": [
       "140421341777224"
      ]
     },
     "execution_count": 148,
     "metadata": {},
     "output_type": "execute_result"
    }
   ],
   "source": [
    "id(b)"
   ]
  },
  {
   "cell_type": "code",
   "execution_count": 149,
   "metadata": {},
   "outputs": [
    {
     "data": {
      "text/plain": [
       "140421341781832"
      ]
     },
     "execution_count": 149,
     "metadata": {},
     "output_type": "execute_result"
    }
   ],
   "source": [
    "id(c)"
   ]
  },
  {
   "cell_type": "code",
   "execution_count": 150,
   "metadata": {},
   "outputs": [
    {
     "data": {
      "text/plain": [
       "140421341942664"
      ]
     },
     "execution_count": 150,
     "metadata": {},
     "output_type": "execute_result"
    }
   ],
   "source": [
    "id(d)"
   ]
  },
  {
   "cell_type": "code",
   "execution_count": 151,
   "metadata": {},
   "outputs": [
    {
     "data": {
      "text/plain": [
       "140421342366536"
      ]
     },
     "execution_count": 151,
     "metadata": {},
     "output_type": "execute_result"
    }
   ],
   "source": [
    "id(e)"
   ]
  },
  {
   "cell_type": "markdown",
   "metadata": {},
   "source": [
    "copy和切片都为浅拷贝，deepcopy为深拷贝,完全不同的内存空间的复制\n",
    "```\n",
    "b=a这种,只是变量重命名.引用的都是一个内存\n",
    "对a中的list元素: [1,2,3]仅仅是引用, 如果list发生了变化，则浅拷贝的对象,也跟着变化\n",
    "对a中的其他元素, 浅拷贝以上都是复制\n",
    "```"
   ]
  },
  {
   "cell_type": "code",
   "execution_count": 152,
   "metadata": {},
   "outputs": [
    {
     "name": "stdout",
     "output_type": "stream",
     "text": [
      "[1, 2, 3, 4, [1, 2, 3, 4]]\n",
      "[1, 2, 3, 4, [1, 2, 3, 4]]\n",
      "[1, 2, 3, 4, [1, 2, 3, 4]]\n",
      "[1, 2, 3, 4, [1, 2, 3, 4]]\n",
      "[1, 2, 3, 4, [1, 2, 3]]\n"
     ]
    }
   ],
   "source": [
    "a[4].append(4);\n",
    "print(a)\n",
    "print(b)\n",
    "print(c)\n",
    "print(d)\n",
    "print(e)"
   ]
  },
  {
   "cell_type": "code",
   "execution_count": 153,
   "metadata": {},
   "outputs": [
    {
     "name": "stdout",
     "output_type": "stream",
     "text": [
      "[1, 2, 3, 4, [1, 2, 3, 4], 5]\n",
      "[1, 2, 3, 4, [1, 2, 3, 4], 5]\n",
      "[1, 2, 3, 4, [1, 2, 3, 4]]\n",
      "[1, 2, 3, 4, [1, 2, 3, 4]]\n",
      "[1, 2, 3, 4, [1, 2, 3]]\n"
     ]
    }
   ],
   "source": [
    "a.append(5)\n",
    "print(a)\n",
    "print(b)\n",
    "print(c)\n",
    "print(d)\n",
    "print(e)"
   ]
  },
  {
   "cell_type": "markdown",
   "metadata": {},
   "source": [
    "回到\\_\\_deepcopy\\_\\_方法,实现了这个方法的类，自然就可以被deepcopy正确的调用了，默认的(){}等都是实现了的\n",
    "\n",
    "如果继承dict写新的类，有新的属性，需要重写该方法."
   ]
  },
  {
   "cell_type": "markdown",
   "metadata": {},
   "source": [
    "```py\n",
    "def __deepcopy__(self, memo):\n",
    "    r = self.__class__()\n",
    "    for k, v in self.items():\n",
    "        r[copy.deepcopy(k)] = copy.deepcopy(v)\n",
    "    r.core = self.core\n",
    "    return r\n",
    "```"
   ]
  }
 ],
 "metadata": {
  "kernelspec": {
   "display_name": "Python 3",
   "language": "python",
   "name": "python3"
  },
  "language_info": {
   "codemirror_mode": {
    "name": "ipython",
    "version": 3
   },
   "file_extension": ".py",
   "mimetype": "text/x-python",
   "name": "python",
   "nbconvert_exporter": "python",
   "pygments_lexer": "ipython3",
   "version": "3.6.5"
  },
  "latex_envs": {
   "LaTeX_envs_menu_present": true,
   "autoclose": false,
   "autocomplete": true,
   "bibliofile": "biblio.bib",
   "cite_by": "apalike",
   "current_citInitial": 1,
   "eqLabelWithNumbers": true,
   "eqNumInitial": 1,
   "hotkeys": {
    "equation": "Ctrl-E",
    "itemize": "Ctrl-I"
   },
   "labels_anchors": false,
   "latex_user_defs": false,
   "report_style_numbering": false,
   "user_envs_cfg": false
  },
  "toc": {
   "base_numbering": 1,
   "nav_menu": {},
   "number_sections": true,
   "sideBar": true,
   "skip_h1_title": false,
   "title_cell": "Table of Contents",
   "title_sidebar": "Contents",
   "toc_cell": false,
   "toc_position": {},
   "toc_section_display": true,
   "toc_window_display": false
  }
 },
 "nbformat": 4,
 "nbformat_minor": 2
}
